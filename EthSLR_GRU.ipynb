{
 "cells": [
  {
   "cell_type": "code",
   "execution_count": 1,
   "id": "3fde40df",
   "metadata": {},
   "outputs": [],
   "source": [
    "import cv2\n",
    "import numpy as np\n",
    "import os\n",
    "from matplotlib import pyplot as plt\n",
    "import time\n",
    "import mediapipe as mp\n",
    "import tensorflow as tf"
   ]
  },
  {
   "cell_type": "code",
   "execution_count": 2,
   "id": "a46f7543",
   "metadata": {},
   "outputs": [],
   "source": [
    "from tensorflow.keras.models import Sequential # is used to build a sequential NN\n",
    "from tensorflow.keras.layers import LSTM, Dense, Dropout, Flatten, GRU\n",
    "from tensorflow.keras.layers import Conv1D, TimeDistributed\n",
    "from tensorflow.keras.callbacks import TensorBoard\n",
    "from tensorflow.keras.optimizers import Adam"
   ]
  },
  {
   "cell_type": "code",
   "execution_count": 3,
   "id": "a52885d7",
   "metadata": {},
   "outputs": [],
   "source": [
    "from sklearn.model_selection import train_test_split # to automatically split the dataset into trining and testing sets\n",
    "from tensorflow.keras.utils import to_categorical # to convert data to one hot encoded data"
   ]
  },
  {
   "cell_type": "code",
   "execution_count": 1,
   "id": "a070c7e3",
   "metadata": {},
   "outputs": [],
   "source": [
    "from tensorflow import keras\n",
    "from tensorflow.keras import layers\n",
    "import keras_tuner as kt \n",
    "from keras_tuner.tuners import BayesianOptimization\n",
    "from keras_tuner.engine.hyperparameters import HyperParameters"
   ]
  },
  {
   "cell_type": "markdown",
   "id": "4717798a",
   "metadata": {},
   "source": [
    "#Data for Signer Dependent mode "
   ]
  },
  {
   "cell_type": "code",
   "execution_count": 5,
   "id": "d42c6df2",
   "metadata": {},
   "outputs": [],
   "source": [
    "#path for exported data, numpy arrays\n",
    "DATA_PATH = os.path.join('EthSL_Dataset')\n",
    "actions = np.array(['ሀዘን','ህመም','ለምን', 'ልምምድ', 'መራራ', 'መናደድ', 'መጀመር', 'መገረም', \n",
    "                    'መጥፎ', 'መጨረስ', 'መጨነቅ', 'ማሸነፍ', 'ምስጋና', 'ቀላል', 'ተነስ', 'አስቸጋሪ', \n",
    "                    'እህት', 'ወንድም', 'ይቅርታ', 'ጎበዝ'])\n",
    "\n",
    "no_sequences = 280 #number of videos to be captured is set to 280\n",
    "sequence_length = 30 #number of frames in each video is set to 30"
   ]
  },
  {
   "cell_type": "code",
   "execution_count": 6,
   "id": "b68b1e78",
   "metadata": {},
   "outputs": [],
   "source": [
    "label_map = {label:num for num, label in enumerate(actions)}"
   ]
  },
  {
   "cell_type": "code",
   "execution_count": 7,
   "id": "9d1d5a54",
   "metadata": {},
   "outputs": [],
   "source": [
    "# build big array which contains all data\n",
    "sequences, labels = [], [] # feature and label data respectively\n",
    "for action in actions:\n",
    "    for sequence in range(no_sequences):\n",
    "        window = [] # represents all frames in a specific video\n",
    "        for frame_num in range(sequence_length):\n",
    "            res = np.load(os.path.join(DATA_PATH, action, str(sequence), \"{}.npy\".format(frame_num)))\n",
    "            window.append(res)\n",
    "        sequences.append(window) # all data for each word is appended and a single numpy array is created\n",
    "        labels.append(label_map[action])"
   ]
  },
  {
   "cell_type": "code",
   "execution_count": 8,
   "id": "3e9360ea",
   "metadata": {},
   "outputs": [],
   "source": [
    "x = np.array(sequences)"
   ]
  },
  {
   "cell_type": "code",
   "execution_count": 9,
   "id": "2de6f64d",
   "metadata": {},
   "outputs": [],
   "source": [
    "y = to_categorical(labels).astype(int)"
   ]
  },
  {
   "cell_type": "code",
   "execution_count": 10,
   "id": "2bd8c94e",
   "metadata": {},
   "outputs": [],
   "source": [
    "x_train, x_test, y_train, y_test = train_test_split(x, y, test_size=0.1)"
   ]
  },
  {
   "cell_type": "code",
   "execution_count": 12,
   "id": "a303fdfb",
   "metadata": {},
   "outputs": [
    {
     "data": {
      "text/plain": [
       "((5040, 30, 1662), (560, 30, 1662), (5040, 20), (560, 20))"
      ]
     },
     "execution_count": 12,
     "metadata": {},
     "output_type": "execute_result"
    }
   ],
   "source": [
    "x_train.shape, x_test.shape, y_train.shape, y_test.shape"
   ]
  },
  {
   "cell_type": "markdown",
   "id": "b5e2baa1",
   "metadata": {},
   "source": [
    "#Data for Signer Independent mode"
   ]
  },
  {
   "cell_type": "markdown",
   "id": "bbfcbaf1",
   "metadata": {},
   "source": [
    "#Load training data"
   ]
  },
  {
   "cell_type": "code",
   "execution_count": 5,
   "id": "289732fe",
   "metadata": {},
   "outputs": [],
   "source": [
    "#path for exported data, numpy arrays to load training data\n",
    "DATA_PATH_train = os.path.join('EthSL_Train')\n",
    "actions_train = np.array(['ሀዘን','ህመም','ለምን', 'ልምምድ', 'መራራ', 'መናደድ', 'መጀመር', 'መገረም', \n",
    "                    'መጥፎ', 'መጨረስ', 'መጨነቅ', 'ማሸነፍ', 'ምስጋና', 'ቀላል', 'ተነስ', 'አስቸጋሪ', \n",
    "                    'እህት', 'ወንድም', 'ይቅርታ', 'ጎበዝ'])\n",
    "\n",
    "no_sequences_train = 240 #number of videos to be captured is set to 40\n",
    "sequence_length_train = 30 #number of frames in each video is set to 30"
   ]
  },
  {
   "cell_type": "code",
   "execution_count": 6,
   "id": "52881ce2",
   "metadata": {},
   "outputs": [],
   "source": [
    "label_map_train = {label:num for num, label in enumerate(actions_train)}"
   ]
  },
  {
   "cell_type": "code",
   "execution_count": 7,
   "id": "84dc9f87",
   "metadata": {},
   "outputs": [],
   "source": [
    "# build big array which contains all training data\n",
    "sequences_train, labels_train = [], [] # feature and label data respectively\n",
    "for action_train in actions_train:\n",
    "    for sequence_train in range(no_sequences_train):\n",
    "        window_train = [] # represents all frames in a specific video\n",
    "        for frame_num_train in range(sequence_length_train):\n",
    "            res_train = np.load(os.path.join(DATA_PATH_train, action_train, str(sequence_train), \"{}.npy\".format(frame_num_train)))\n",
    "            window_train.append(res_train)\n",
    "        sequences_train.append(window_train) # all data for each word is appended and a single numpy array is created\n",
    "        labels_train.append(label_map_train[action_train])"
   ]
  },
  {
   "cell_type": "code",
   "execution_count": 8,
   "id": "c777dcd7",
   "metadata": {},
   "outputs": [],
   "source": [
    "x_training = np.array(sequences_train)"
   ]
  },
  {
   "cell_type": "code",
   "execution_count": 9,
   "id": "f1e05a7a",
   "metadata": {},
   "outputs": [],
   "source": [
    "y_training = to_categorical(labels_train).astype(int)"
   ]
  },
  {
   "cell_type": "code",
   "execution_count": 10,
   "id": "83d751ac",
   "metadata": {},
   "outputs": [],
   "source": [
    "x_train, x_val, y_train, y_val = train_test_split(x_training, y_training, test_size=0.2)"
   ]
  },
  {
   "cell_type": "code",
   "execution_count": 11,
   "id": "8bbc4421",
   "metadata": {},
   "outputs": [
    {
     "data": {
      "text/plain": [
       "((3840, 30, 1662), (960, 30, 1662), (3840, 20), (960, 20))"
      ]
     },
     "execution_count": 11,
     "metadata": {},
     "output_type": "execute_result"
    }
   ],
   "source": [
    "x_train.shape, x_val.shape, y_train.shape, y_val.shape"
   ]
  },
  {
   "cell_type": "markdown",
   "id": "588e9c47",
   "metadata": {},
   "source": [
    "#Load test data"
   ]
  },
  {
   "cell_type": "code",
   "execution_count": 56,
   "id": "adabce6d",
   "metadata": {},
   "outputs": [],
   "source": [
    "#path for exported data, numpy arrays to load test data\n",
    "DATA_PATH_test = os.path.join('EthSL_Test')\n",
    "actions_test = np.array(['ሀዘን','ህመም','ለምን', 'ልምምድ', 'መራራ', 'መናደድ', 'መጀመር', 'መገረም', \n",
    "                    'መጥፎ', 'መጨረስ', 'መጨነቅ', 'ማሸነፍ', 'ምስጋና', 'ቀላል', 'ተነስ', 'አስቸጋሪ', \n",
    "                    'እህት', 'ወንድም', 'ይቅርታ', 'ጎበዝ'])\n",
    "\n",
    "no_sequences_test = 40 #number of videos to be captured is set to 40\n",
    "sequence_length_test = 30 #number of frames in each video is set to 30"
   ]
  },
  {
   "cell_type": "code",
   "execution_count": 57,
   "id": "40a56e84",
   "metadata": {},
   "outputs": [],
   "source": [
    "label_map_test = {label:num for num, label in enumerate(actions_test)}"
   ]
  },
  {
   "cell_type": "code",
   "execution_count": 58,
   "id": "ce79ef73",
   "metadata": {},
   "outputs": [],
   "source": [
    "# build big array which contains all testing data\n",
    "sequences_test, labels_test = [], [] # feature and label data respectively\n",
    "for action_test in actions_test:\n",
    "    for sequence_test in range(no_sequences_test):\n",
    "        window_test = [] # represents all frames in a specific video\n",
    "        for frame_num_test in range(sequence_length_test):\n",
    "            res_test = np.load(os.path.join(DATA_PATH_test, action_test, str(sequence_test), \"{}.npy\".format(frame_num_test)))\n",
    "            window_test.append(res_test)\n",
    "        sequences_test.append(window_test) # all data for each word is appended and a single numpy array is created\n",
    "        labels_test.append(label_map_test[action_test])"
   ]
  },
  {
   "cell_type": "code",
   "execution_count": 59,
   "id": "8063d03d",
   "metadata": {},
   "outputs": [],
   "source": [
    "x_testing = np.array(sequences_test)"
   ]
  },
  {
   "cell_type": "code",
   "execution_count": 60,
   "id": "d8778fe7",
   "metadata": {},
   "outputs": [],
   "source": [
    "y_testing = to_categorical(labels_test).astype(int)"
   ]
  },
  {
   "cell_type": "code",
   "execution_count": 76,
   "id": "70f4b02d",
   "metadata": {},
   "outputs": [],
   "source": [
    "#To split some of the data and take the larger portion for testing\n",
    "x_trainT, x_test, y_trainT, y_test = train_test_split(x_testing, y_testing, test_size=0.95)"
   ]
  },
  {
   "cell_type": "code",
   "execution_count": 77,
   "id": "d1faa7d0",
   "metadata": {},
   "outputs": [
    {
     "data": {
      "text/plain": [
       "((40, 30, 1662), (760, 30, 1662), (40, 20), (760, 20))"
      ]
     },
     "execution_count": 77,
     "metadata": {},
     "output_type": "execute_result"
    }
   ],
   "source": [
    "x_trainT.shape, x_test.shape, y_trainT.shape, y_test.shape"
   ]
  },
  {
   "cell_type": "code",
   "execution_count": 2,
   "id": "b6d4def2",
   "metadata": {},
   "outputs": [],
   "source": [
    "#A  model for GRU\n",
    "def build_model(hp):\n",
    "    model = Sequential()\n",
    "    model.add(GRU(hp.Int('first_lstm_units', min_value=32, max_value=512, step=32), \n",
    "                   return_sequences = True, input_shape=(30,1662), activation = 'tanh'))\n",
    "    \n",
    "    for i in range(hp.Int('n_lstm_layers', 1, 8)):\n",
    "        model.add(GRU(hp.Int(f'lstm_{i}_units',min_value=32,max_value=512,step=32), \n",
    "                       recurrent_activation='sigmoid', return_sequences=True, activation = 'tanh'))\n",
    "        \n",
    "    model.add(Dropout(hp.Float('Dropout_rate1',min_value=0,max_value=0.5,step=0.1)))\n",
    "    model.add(GRU(hp.Int('last_layer_neurons',min_value=32,max_value=512,step=32), \n",
    "                   recurrent_activation='sigmoid'))\n",
    "    \n",
    "    #model.add(Dropout(hp.Float('Dropout_rate',min_value=0,max_value=0.5,step=0.1)))\n",
    "    \n",
    "    model.add(Dense(units=hp.Int('dense_1_units', min_value=32, max_value=128, step=16),\n",
    "                    activation='relu'))  \n",
    "    #model.add(Dropout(hp.Float('Dropout_rate2',min_value=0,max_value=0.5,step=0.1)))\n",
    "    model.add(Dense(20, activation='softmax'))\n",
    "    \n",
    "    #compilation of model\n",
    "    model.compile(optimizer=keras.optimizers.Adam(hp.Choice('learning_rate', values=[1e-3, 1e-4, 1e-5, 1e-6])),\n",
    "              loss='categorical_crossentropy',\n",
    "              metrics=['categorical_accuracy'])\n",
    "    return model"
   ]
  },
  {
   "cell_type": "code",
   "execution_count": 14,
   "id": "b0236d5c",
   "metadata": {},
   "outputs": [],
   "source": [
    "stop_early = tf.keras.callbacks.EarlyStopping(monitor= 'val_categorical_accuracy', patience = 5)"
   ]
  },
  {
   "cell_type": "code",
   "execution_count": 3,
   "id": "f27b3447",
   "metadata": {},
   "outputs": [
    {
     "name": "stdout",
     "output_type": "stream",
     "text": [
      "INFO:tensorflow:Reloading Tuner from tuneGRU\\GRUTuner\\tuner0.json\n"
     ]
    }
   ],
   "source": [
    "#A tuner for GRU\n",
    "tunerBiLSTM = BayesianOptimization(\n",
    "        build_model,\n",
    "        objective = 'val_categorical_accuracy',\n",
    "        #overwrite = True,\n",
    "        max_trials = 10,\n",
    "        alpha = 0.0001,\n",
    "        beta = 2.6,\n",
    "        max_retries_per_trial = 1,\n",
    "        max_consecutive_failed_trials = 3,\n",
    "        directory = 'tuneGRU',\n",
    "        project_name=\"GRUTuner\"\n",
    "        )"
   ]
  },
  {
   "cell_type": "code",
   "execution_count": 16,
   "id": "f53827c9",
   "metadata": {},
   "outputs": [
    {
     "name": "stdout",
     "output_type": "stream",
     "text": [
      "Trial 10 Complete [02h 07m 05s]\n",
      "val_categorical_accuracy: 0.15535713732242584\n",
      "\n",
      "Best val_categorical_accuracy So Far: 0.9312499761581421\n",
      "Total elapsed time: 1d 01h 00m 45s\n",
      "INFO:tensorflow:Oracle triggered exit\n"
     ]
    },
    {
     "name": "stderr",
     "output_type": "stream",
     "text": [
      "INFO:tensorflow:Oracle triggered exit\n"
     ]
    }
   ],
   "source": [
    "tunerBiLSTM.search(\n",
    "        x_train,\n",
    "        y_train,\n",
    "        epochs = 70,\n",
    "        batch_size = 16,\n",
    "        validation_data = (x_test, y_test),\n",
    "        callbacks = [stop_early]\n",
    "        )"
   ]
  },
  {
   "cell_type": "code",
   "execution_count": 4,
   "id": "ac821c01",
   "metadata": {},
   "outputs": [],
   "source": [
    "tunerBiLSTM.reload()"
   ]
  },
  {
   "cell_type": "code",
   "execution_count": 23,
   "id": "ff50ea6b",
   "metadata": {},
   "outputs": [],
   "source": [
    "best_hps = tunerBiLSTM.get_best_hyperparameters(num_trials = 1)[0]"
   ]
  },
  {
   "cell_type": "code",
   "execution_count": 5,
   "id": "73453a05",
   "metadata": {},
   "outputs": [
    {
     "name": "stdout",
     "output_type": "stream",
     "text": [
      "Results summary\n",
      "Results in tuneGRU\\GRUTuner\n",
      "Showing 10 best trials\n",
      "<keras_tuner.engine.objective.Objective object at 0x000001F3178F1760>\n",
      "Trial summary\n",
      "Hyperparameters:\n",
      "first_lstm_units: 256\n",
      "n_lstm_layers: 7\n",
      "lstm_0_units: 448\n",
      "Dropout_rate1: 0.30000000000000004\n",
      "last_layer_neurons: 64\n",
      "dense_1_units: 80\n",
      "learning_rate: 0.0001\n",
      "lstm_1_units: 224\n",
      "lstm_2_units: 224\n",
      "lstm_3_units: 320\n",
      "lstm_4_units: 256\n",
      "lstm_5_units: 128\n",
      "lstm_6_units: 64\n",
      "Score: 0.9312499761581421\n",
      "Trial summary\n",
      "Hyperparameters:\n",
      "first_lstm_units: 128\n",
      "n_lstm_layers: 1\n",
      "lstm_0_units: 288\n",
      "Dropout_rate1: 0.30000000000000004\n",
      "last_layer_neurons: 224\n",
      "dense_1_units: 96\n",
      "learning_rate: 0.0001\n",
      "lstm_1_units: 192\n",
      "lstm_2_units: 128\n",
      "lstm_3_units: 448\n",
      "lstm_4_units: 288\n",
      "lstm_5_units: 384\n",
      "lstm_6_units: 128\n",
      "Score: 0.9258928298950195\n",
      "Trial summary\n",
      "Hyperparameters:\n",
      "first_lstm_units: 448\n",
      "n_lstm_layers: 2\n",
      "lstm_0_units: 320\n",
      "Dropout_rate1: 0.2\n",
      "last_layer_neurons: 256\n",
      "dense_1_units: 80\n",
      "learning_rate: 0.0001\n",
      "lstm_1_units: 352\n",
      "lstm_2_units: 384\n",
      "lstm_3_units: 224\n",
      "Score: 0.9178571701049805\n",
      "Trial summary\n",
      "Hyperparameters:\n",
      "first_lstm_units: 448\n",
      "n_lstm_layers: 4\n",
      "lstm_0_units: 320\n",
      "Dropout_rate1: 0.2\n",
      "last_layer_neurons: 192\n",
      "dense_1_units: 32\n",
      "learning_rate: 0.0001\n",
      "lstm_1_units: 96\n",
      "lstm_2_units: 256\n",
      "lstm_3_units: 416\n",
      "Score: 0.893750011920929\n",
      "Trial summary\n",
      "Hyperparameters:\n",
      "first_lstm_units: 384\n",
      "n_lstm_layers: 7\n",
      "lstm_0_units: 160\n",
      "Dropout_rate1: 0.1\n",
      "last_layer_neurons: 256\n",
      "dense_1_units: 64\n",
      "learning_rate: 0.0001\n",
      "lstm_1_units: 160\n",
      "lstm_2_units: 32\n",
      "lstm_3_units: 256\n",
      "lstm_4_units: 32\n",
      "lstm_5_units: 32\n",
      "lstm_6_units: 32\n",
      "Score: 0.8928571343421936\n",
      "Trial summary\n",
      "Hyperparameters:\n",
      "first_lstm_units: 352\n",
      "n_lstm_layers: 2\n",
      "lstm_0_units: 512\n",
      "Dropout_rate1: 0.0\n",
      "last_layer_neurons: 448\n",
      "dense_1_units: 96\n",
      "learning_rate: 1e-05\n",
      "lstm_1_units: 32\n",
      "lstm_2_units: 480\n",
      "lstm_3_units: 352\n",
      "lstm_4_units: 352\n",
      "lstm_5_units: 352\n",
      "lstm_6_units: 192\n",
      "Score: 0.6642857193946838\n",
      "Trial summary\n",
      "Hyperparameters:\n",
      "first_lstm_units: 192\n",
      "n_lstm_layers: 1\n",
      "lstm_0_units: 448\n",
      "Dropout_rate1: 0.0\n",
      "last_layer_neurons: 96\n",
      "dense_1_units: 48\n",
      "learning_rate: 1e-06\n",
      "lstm_1_units: 128\n",
      "lstm_2_units: 96\n",
      "lstm_3_units: 416\n",
      "lstm_4_units: 256\n",
      "lstm_5_units: 256\n",
      "lstm_6_units: 384\n",
      "Score: 0.15535713732242584\n",
      "Trial summary\n",
      "Hyperparameters:\n",
      "first_lstm_units: 416\n",
      "n_lstm_layers: 4\n",
      "lstm_0_units: 480\n",
      "Dropout_rate1: 0.30000000000000004\n",
      "last_layer_neurons: 448\n",
      "dense_1_units: 96\n",
      "learning_rate: 1e-06\n",
      "lstm_1_units: 224\n",
      "lstm_2_units: 96\n",
      "lstm_3_units: 256\n",
      "Score: 0.1294642835855484\n",
      "Trial summary\n",
      "Hyperparameters:\n",
      "first_lstm_units: 448\n",
      "n_lstm_layers: 4\n",
      "lstm_0_units: 64\n",
      "Dropout_rate1: 0.4\n",
      "last_layer_neurons: 320\n",
      "dense_1_units: 112\n",
      "learning_rate: 1e-06\n",
      "lstm_1_units: 32\n",
      "lstm_2_units: 32\n",
      "lstm_3_units: 32\n",
      "Score: 0.06428571790456772\n",
      "Trial summary\n",
      "Hyperparameters:\n",
      "first_lstm_units: 416\n",
      "n_lstm_layers: 6\n",
      "lstm_0_units: 192\n",
      "Dropout_rate1: 0.4\n",
      "last_layer_neurons: 128\n",
      "dense_1_units: 112\n",
      "learning_rate: 0.001\n",
      "lstm_1_units: 384\n",
      "lstm_2_units: 384\n",
      "lstm_3_units: 384\n",
      "lstm_4_units: 160\n",
      "lstm_5_units: 128\n",
      "lstm_6_units: 384\n",
      "Score: 0.05089285597205162\n"
     ]
    }
   ],
   "source": [
    "tunerBiLSTM.results_summary()"
   ]
  },
  {
   "cell_type": "code",
   "execution_count": 25,
   "id": "453e7b4c",
   "metadata": {
    "scrolled": true
   },
   "outputs": [
    {
     "name": "stdout",
     "output_type": "stream",
     "text": [
      "Epoch 1/50\n",
      "240/240 [==============================] - 272s 813ms/step - loss: 2.9949 - categorical_accuracy: 0.0589 - val_loss: 3.0063 - val_categorical_accuracy: 0.0594\n",
      "Epoch 2/50\n",
      "240/240 [==============================] - 175s 731ms/step - loss: 2.9007 - categorical_accuracy: 0.0951 - val_loss: 2.8520 - val_categorical_accuracy: 0.1000\n",
      "Epoch 3/50\n",
      "240/240 [==============================] - 176s 733ms/step - loss: 2.8245 - categorical_accuracy: 0.1161 - val_loss: 2.7832 - val_categorical_accuracy: 0.1312\n",
      "Epoch 4/50\n",
      "240/240 [==============================] - 176s 732ms/step - loss: 2.7204 - categorical_accuracy: 0.1612 - val_loss: 2.6360 - val_categorical_accuracy: 0.1688\n",
      "Epoch 5/50\n",
      "240/240 [==============================] - 176s 732ms/step - loss: 2.5320 - categorical_accuracy: 0.2208 - val_loss: 2.4008 - val_categorical_accuracy: 0.2573\n",
      "Epoch 6/50\n",
      "240/240 [==============================] - 175s 730ms/step - loss: 2.3277 - categorical_accuracy: 0.2747 - val_loss: 2.2682 - val_categorical_accuracy: 0.2760\n",
      "Epoch 7/50\n",
      "240/240 [==============================] - 175s 727ms/step - loss: 2.1600 - categorical_accuracy: 0.3151 - val_loss: 2.1045 - val_categorical_accuracy: 0.3260\n",
      "Epoch 8/50\n",
      "240/240 [==============================] - 176s 733ms/step - loss: 1.9845 - categorical_accuracy: 0.3776 - val_loss: 1.9839 - val_categorical_accuracy: 0.3594\n",
      "Epoch 9/50\n",
      "240/240 [==============================] - 176s 732ms/step - loss: 1.8407 - categorical_accuracy: 0.4135 - val_loss: 1.8309 - val_categorical_accuracy: 0.3885\n",
      "Epoch 10/50\n",
      "240/240 [==============================] - 177s 737ms/step - loss: 1.7203 - categorical_accuracy: 0.4690 - val_loss: 1.6468 - val_categorical_accuracy: 0.4875\n",
      "Epoch 11/50\n",
      "240/240 [==============================] - 176s 735ms/step - loss: 1.5458 - categorical_accuracy: 0.5247 - val_loss: 1.6226 - val_categorical_accuracy: 0.4792\n",
      "Epoch 12/50\n",
      "240/240 [==============================] - 176s 734ms/step - loss: 1.4539 - categorical_accuracy: 0.5531 - val_loss: 1.5779 - val_categorical_accuracy: 0.4812\n",
      "Epoch 13/50\n",
      "240/240 [==============================] - 176s 733ms/step - loss: 1.3078 - categorical_accuracy: 0.5995 - val_loss: 1.3162 - val_categorical_accuracy: 0.5719\n",
      "Epoch 14/50\n",
      "240/240 [==============================] - 176s 735ms/step - loss: 1.1732 - categorical_accuracy: 0.6396 - val_loss: 1.2475 - val_categorical_accuracy: 0.6010\n",
      "Epoch 15/50\n",
      "240/240 [==============================] - 177s 737ms/step - loss: 1.0481 - categorical_accuracy: 0.6865 - val_loss: 1.0378 - val_categorical_accuracy: 0.6760\n",
      "Epoch 16/50\n",
      "240/240 [==============================] - 178s 742ms/step - loss: 0.9272 - categorical_accuracy: 0.7292 - val_loss: 1.0357 - val_categorical_accuracy: 0.6760\n",
      "Epoch 17/50\n",
      "240/240 [==============================] - 178s 741ms/step - loss: 0.8560 - categorical_accuracy: 0.7492 - val_loss: 0.9692 - val_categorical_accuracy: 0.6927\n",
      "Epoch 18/50\n",
      "240/240 [==============================] - 176s 735ms/step - loss: 0.7127 - categorical_accuracy: 0.7878 - val_loss: 0.7683 - val_categorical_accuracy: 0.7698\n",
      "Epoch 19/50\n",
      "240/240 [==============================] - 176s 735ms/step - loss: 0.6336 - categorical_accuracy: 0.8185 - val_loss: 0.7069 - val_categorical_accuracy: 0.7792\n",
      "Epoch 20/50\n",
      "240/240 [==============================] - 177s 738ms/step - loss: 0.5750 - categorical_accuracy: 0.8372 - val_loss: 0.7317 - val_categorical_accuracy: 0.7688\n",
      "Epoch 21/50\n",
      "240/240 [==============================] - 176s 734ms/step - loss: 0.5038 - categorical_accuracy: 0.8529 - val_loss: 0.7069 - val_categorical_accuracy: 0.7802\n",
      "Epoch 22/50\n",
      "240/240 [==============================] - 177s 737ms/step - loss: 0.4360 - categorical_accuracy: 0.8779 - val_loss: 0.5909 - val_categorical_accuracy: 0.8281\n",
      "Epoch 23/50\n",
      "240/240 [==============================] - 177s 737ms/step - loss: 0.4259 - categorical_accuracy: 0.8742 - val_loss: 0.6312 - val_categorical_accuracy: 0.8073\n",
      "Epoch 24/50\n",
      "240/240 [==============================] - 177s 737ms/step - loss: 0.3373 - categorical_accuracy: 0.9091 - val_loss: 0.4729 - val_categorical_accuracy: 0.8542\n",
      "Epoch 25/50\n",
      "240/240 [==============================] - 179s 747ms/step - loss: 0.3261 - categorical_accuracy: 0.9068 - val_loss: 0.4201 - val_categorical_accuracy: 0.8656\n",
      "Epoch 26/50\n",
      "240/240 [==============================] - 179s 746ms/step - loss: 0.2602 - categorical_accuracy: 0.9294 - val_loss: 0.4981 - val_categorical_accuracy: 0.8656\n",
      "Epoch 27/50\n",
      "240/240 [==============================] - 177s 739ms/step - loss: 0.2927 - categorical_accuracy: 0.9151 - val_loss: 0.3803 - val_categorical_accuracy: 0.8854\n",
      "Epoch 28/50\n",
      "240/240 [==============================] - 178s 740ms/step - loss: 0.2434 - categorical_accuracy: 0.9294 - val_loss: 0.3456 - val_categorical_accuracy: 0.9000\n",
      "Epoch 29/50\n",
      "240/240 [==============================] - 178s 742ms/step - loss: 0.2236 - categorical_accuracy: 0.9372 - val_loss: 0.5530 - val_categorical_accuracy: 0.8417\n",
      "Epoch 30/50\n",
      "240/240 [==============================] - 178s 743ms/step - loss: 0.2088 - categorical_accuracy: 0.9372 - val_loss: 0.3471 - val_categorical_accuracy: 0.8990\n",
      "Epoch 31/50\n",
      "240/240 [==============================] - 179s 746ms/step - loss: 0.1933 - categorical_accuracy: 0.9419 - val_loss: 0.4593 - val_categorical_accuracy: 0.8698\n",
      "Epoch 32/50\n",
      "240/240 [==============================] - 178s 743ms/step - loss: 0.1917 - categorical_accuracy: 0.9461 - val_loss: 0.3155 - val_categorical_accuracy: 0.9062\n",
      "Epoch 33/50\n",
      "240/240 [==============================] - 179s 746ms/step - loss: 0.1986 - categorical_accuracy: 0.9378 - val_loss: 0.3835 - val_categorical_accuracy: 0.8833\n",
      "Epoch 34/50\n",
      "240/240 [==============================] - 179s 744ms/step - loss: 0.1801 - categorical_accuracy: 0.9474 - val_loss: 0.4231 - val_categorical_accuracy: 0.8781\n",
      "Epoch 35/50\n",
      "240/240 [==============================] - 178s 742ms/step - loss: 0.1261 - categorical_accuracy: 0.9664 - val_loss: 0.2820 - val_categorical_accuracy: 0.9083\n",
      "Epoch 36/50\n",
      "240/240 [==============================] - 179s 745ms/step - loss: 0.1599 - categorical_accuracy: 0.9555 - val_loss: 0.5492 - val_categorical_accuracy: 0.8562\n",
      "Epoch 37/50\n",
      "240/240 [==============================] - 179s 745ms/step - loss: 0.1074 - categorical_accuracy: 0.9680 - val_loss: 0.3791 - val_categorical_accuracy: 0.9021\n",
      "Epoch 38/50\n",
      "240/240 [==============================] - 177s 739ms/step - loss: 0.1593 - categorical_accuracy: 0.9516 - val_loss: 0.3128 - val_categorical_accuracy: 0.9240\n",
      "Epoch 39/50\n",
      "240/240 [==============================] - 178s 743ms/step - loss: 0.1042 - categorical_accuracy: 0.9701 - val_loss: 0.2773 - val_categorical_accuracy: 0.9250\n",
      "Epoch 40/50\n",
      "240/240 [==============================] - 180s 749ms/step - loss: 0.0773 - categorical_accuracy: 0.9784 - val_loss: 0.3213 - val_categorical_accuracy: 0.9208\n",
      "Epoch 41/50\n",
      "240/240 [==============================] - 178s 744ms/step - loss: 0.1343 - categorical_accuracy: 0.9604 - val_loss: 0.2505 - val_categorical_accuracy: 0.9385\n",
      "Epoch 42/50\n",
      "240/240 [==============================] - 178s 743ms/step - loss: 0.1519 - categorical_accuracy: 0.9560 - val_loss: 0.3871 - val_categorical_accuracy: 0.8896\n",
      "Epoch 43/50\n",
      "240/240 [==============================] - 178s 741ms/step - loss: 0.1433 - categorical_accuracy: 0.9602 - val_loss: 0.3329 - val_categorical_accuracy: 0.9250\n",
      "Epoch 44/50\n",
      "240/240 [==============================] - 178s 741ms/step - loss: 0.0661 - categorical_accuracy: 0.9826 - val_loss: 0.3126 - val_categorical_accuracy: 0.9083\n",
      "Epoch 45/50\n",
      "240/240 [==============================] - 182s 759ms/step - loss: 0.1201 - categorical_accuracy: 0.9633 - val_loss: 0.3012 - val_categorical_accuracy: 0.9115\n",
      "Epoch 46/50\n",
      "240/240 [==============================] - 178s 744ms/step - loss: 0.1190 - categorical_accuracy: 0.9622 - val_loss: 0.2749 - val_categorical_accuracy: 0.9292\n",
      "Epoch 47/50\n",
      "240/240 [==============================] - 179s 747ms/step - loss: 0.0492 - categorical_accuracy: 0.9854 - val_loss: 0.2972 - val_categorical_accuracy: 0.9260\n",
      "Epoch 48/50\n",
      "240/240 [==============================] - 179s 746ms/step - loss: 0.0962 - categorical_accuracy: 0.9711 - val_loss: 0.3153 - val_categorical_accuracy: 0.9198\n"
     ]
    },
    {
     "name": "stdout",
     "output_type": "stream",
     "text": [
      "Epoch 49/50\n",
      "240/240 [==============================] - 177s 739ms/step - loss: 0.1399 - categorical_accuracy: 0.9560 - val_loss: 0.5037 - val_categorical_accuracy: 0.8750\n",
      "Epoch 50/50\n",
      "240/240 [==============================] - 178s 743ms/step - loss: 0.0756 - categorical_accuracy: 0.9786 - val_loss: 0.2399 - val_categorical_accuracy: 0.9365\n"
     ]
    }
   ],
   "source": [
    "#tunerCNNLSTM should be changed while doing for ConvLSTM\n",
    "model = tunerBiLSTM.hypermodel.build(best_hps)\n",
    "\n",
    "#The name of the model should be changed to ConvLSTMEthSLR\n",
    "GRU_EthSLR = model.fit(x_train, y_train, epochs = 50, batch_size = 16, validation_data = (x_val, y_val))"
   ]
  },
  {
   "cell_type": "code",
   "execution_count": null,
   "id": "9ff54683",
   "metadata": {},
   "outputs": [],
   "source": [
    "started at Seven pm end at Ten pm started at 2:40 pm end at 5:40 started at 6:05"
   ]
  },
  {
   "cell_type": "code",
   "execution_count": 46,
   "id": "13fdae63",
   "metadata": {
    "collapsed": true
   },
   "outputs": [
    {
     "name": "stdout",
     "output_type": "stream",
     "text": [
      "Model: \"sequential\"\n",
      "_________________________________________________________________\n",
      " Layer (type)                Output Shape              Param #   \n",
      "=================================================================\n",
      " gru (GRU)                   (None, 30, 256)           1474560   \n",
      "                                                                 \n",
      " gru_1 (GRU)                 (None, 30, 448)           948864    \n",
      "                                                                 \n",
      " gru_2 (GRU)                 (None, 30, 224)           452928    \n",
      "                                                                 \n",
      " gru_3 (GRU)                 (None, 30, 224)           302400    \n",
      "                                                                 \n",
      " gru_4 (GRU)                 (None, 30, 320)           524160    \n",
      "                                                                 \n",
      " gru_5 (GRU)                 (None, 30, 256)           443904    \n",
      "                                                                 \n",
      " gru_6 (GRU)                 (None, 30, 128)           148224    \n",
      "                                                                 \n",
      " gru_7 (GRU)                 (None, 30, 64)            37248     \n",
      "                                                                 \n",
      " dropout (Dropout)           (None, 30, 64)            0         \n",
      "                                                                 \n",
      " gru_8 (GRU)                 (None, 64)                24960     \n",
      "                                                                 \n",
      " dense (Dense)               (None, 80)                5200      \n",
      "                                                                 \n",
      " dense_1 (Dense)             (None, 20)                1620      \n",
      "                                                                 \n",
      "=================================================================\n",
      "Total params: 4,364,068\n",
      "Trainable params: 4,364,068\n",
      "Non-trainable params: 0\n",
      "_________________________________________________________________\n"
     ]
    }
   ],
   "source": [
    "model.summary()"
   ]
  },
  {
   "cell_type": "code",
   "execution_count": 47,
   "id": "dc8bd10b",
   "metadata": {
    "collapsed": true
   },
   "outputs": [
    {
     "data": {
      "text/html": [
       "<div>\n",
       "<style scoped>\n",
       "    .dataframe tbody tr th:only-of-type {\n",
       "        vertical-align: middle;\n",
       "    }\n",
       "\n",
       "    .dataframe tbody tr th {\n",
       "        vertical-align: top;\n",
       "    }\n",
       "\n",
       "    .dataframe thead th {\n",
       "        text-align: right;\n",
       "    }\n",
       "</style>\n",
       "<table border=\"1\" class=\"dataframe\">\n",
       "  <thead>\n",
       "    <tr style=\"text-align: right;\">\n",
       "      <th></th>\n",
       "      <th>loss</th>\n",
       "      <th>categorical_accuracy</th>\n",
       "      <th>val_loss</th>\n",
       "      <th>val_categorical_accuracy</th>\n",
       "    </tr>\n",
       "  </thead>\n",
       "  <tbody>\n",
       "    <tr>\n",
       "      <th>0</th>\n",
       "      <td>2.994915</td>\n",
       "      <td>0.058854</td>\n",
       "      <td>3.006305</td>\n",
       "      <td>0.059375</td>\n",
       "    </tr>\n",
       "    <tr>\n",
       "      <th>1</th>\n",
       "      <td>2.900720</td>\n",
       "      <td>0.095052</td>\n",
       "      <td>2.852037</td>\n",
       "      <td>0.100000</td>\n",
       "    </tr>\n",
       "    <tr>\n",
       "      <th>2</th>\n",
       "      <td>2.824498</td>\n",
       "      <td>0.116146</td>\n",
       "      <td>2.783230</td>\n",
       "      <td>0.131250</td>\n",
       "    </tr>\n",
       "    <tr>\n",
       "      <th>3</th>\n",
       "      <td>2.720401</td>\n",
       "      <td>0.161198</td>\n",
       "      <td>2.635974</td>\n",
       "      <td>0.168750</td>\n",
       "    </tr>\n",
       "    <tr>\n",
       "      <th>4</th>\n",
       "      <td>2.531960</td>\n",
       "      <td>0.220833</td>\n",
       "      <td>2.400785</td>\n",
       "      <td>0.257292</td>\n",
       "    </tr>\n",
       "    <tr>\n",
       "      <th>5</th>\n",
       "      <td>2.327690</td>\n",
       "      <td>0.274740</td>\n",
       "      <td>2.268198</td>\n",
       "      <td>0.276042</td>\n",
       "    </tr>\n",
       "    <tr>\n",
       "      <th>6</th>\n",
       "      <td>2.160001</td>\n",
       "      <td>0.315104</td>\n",
       "      <td>2.104480</td>\n",
       "      <td>0.326042</td>\n",
       "    </tr>\n",
       "    <tr>\n",
       "      <th>7</th>\n",
       "      <td>1.984472</td>\n",
       "      <td>0.377604</td>\n",
       "      <td>1.983946</td>\n",
       "      <td>0.359375</td>\n",
       "    </tr>\n",
       "    <tr>\n",
       "      <th>8</th>\n",
       "      <td>1.840664</td>\n",
       "      <td>0.413542</td>\n",
       "      <td>1.830884</td>\n",
       "      <td>0.388542</td>\n",
       "    </tr>\n",
       "    <tr>\n",
       "      <th>9</th>\n",
       "      <td>1.720309</td>\n",
       "      <td>0.469010</td>\n",
       "      <td>1.646799</td>\n",
       "      <td>0.487500</td>\n",
       "    </tr>\n",
       "    <tr>\n",
       "      <th>10</th>\n",
       "      <td>1.545800</td>\n",
       "      <td>0.524740</td>\n",
       "      <td>1.622617</td>\n",
       "      <td>0.479167</td>\n",
       "    </tr>\n",
       "    <tr>\n",
       "      <th>11</th>\n",
       "      <td>1.453889</td>\n",
       "      <td>0.553125</td>\n",
       "      <td>1.577950</td>\n",
       "      <td>0.481250</td>\n",
       "    </tr>\n",
       "    <tr>\n",
       "      <th>12</th>\n",
       "      <td>1.307768</td>\n",
       "      <td>0.599479</td>\n",
       "      <td>1.316240</td>\n",
       "      <td>0.571875</td>\n",
       "    </tr>\n",
       "    <tr>\n",
       "      <th>13</th>\n",
       "      <td>1.173222</td>\n",
       "      <td>0.639583</td>\n",
       "      <td>1.247452</td>\n",
       "      <td>0.601042</td>\n",
       "    </tr>\n",
       "    <tr>\n",
       "      <th>14</th>\n",
       "      <td>1.048139</td>\n",
       "      <td>0.686458</td>\n",
       "      <td>1.037847</td>\n",
       "      <td>0.676042</td>\n",
       "    </tr>\n",
       "    <tr>\n",
       "      <th>15</th>\n",
       "      <td>0.927199</td>\n",
       "      <td>0.729167</td>\n",
       "      <td>1.035730</td>\n",
       "      <td>0.676042</td>\n",
       "    </tr>\n",
       "    <tr>\n",
       "      <th>16</th>\n",
       "      <td>0.856000</td>\n",
       "      <td>0.749219</td>\n",
       "      <td>0.969225</td>\n",
       "      <td>0.692708</td>\n",
       "    </tr>\n",
       "    <tr>\n",
       "      <th>17</th>\n",
       "      <td>0.712740</td>\n",
       "      <td>0.787760</td>\n",
       "      <td>0.768350</td>\n",
       "      <td>0.769792</td>\n",
       "    </tr>\n",
       "    <tr>\n",
       "      <th>18</th>\n",
       "      <td>0.633600</td>\n",
       "      <td>0.818490</td>\n",
       "      <td>0.706880</td>\n",
       "      <td>0.779167</td>\n",
       "    </tr>\n",
       "    <tr>\n",
       "      <th>19</th>\n",
       "      <td>0.575005</td>\n",
       "      <td>0.837240</td>\n",
       "      <td>0.731658</td>\n",
       "      <td>0.768750</td>\n",
       "    </tr>\n",
       "    <tr>\n",
       "      <th>20</th>\n",
       "      <td>0.503786</td>\n",
       "      <td>0.852865</td>\n",
       "      <td>0.706934</td>\n",
       "      <td>0.780208</td>\n",
       "    </tr>\n",
       "    <tr>\n",
       "      <th>21</th>\n",
       "      <td>0.435962</td>\n",
       "      <td>0.877865</td>\n",
       "      <td>0.590928</td>\n",
       "      <td>0.828125</td>\n",
       "    </tr>\n",
       "    <tr>\n",
       "      <th>22</th>\n",
       "      <td>0.425915</td>\n",
       "      <td>0.874219</td>\n",
       "      <td>0.631225</td>\n",
       "      <td>0.807292</td>\n",
       "    </tr>\n",
       "    <tr>\n",
       "      <th>23</th>\n",
       "      <td>0.337253</td>\n",
       "      <td>0.909115</td>\n",
       "      <td>0.472874</td>\n",
       "      <td>0.854167</td>\n",
       "    </tr>\n",
       "    <tr>\n",
       "      <th>24</th>\n",
       "      <td>0.326149</td>\n",
       "      <td>0.906771</td>\n",
       "      <td>0.420149</td>\n",
       "      <td>0.865625</td>\n",
       "    </tr>\n",
       "    <tr>\n",
       "      <th>25</th>\n",
       "      <td>0.260240</td>\n",
       "      <td>0.929427</td>\n",
       "      <td>0.498125</td>\n",
       "      <td>0.865625</td>\n",
       "    </tr>\n",
       "    <tr>\n",
       "      <th>26</th>\n",
       "      <td>0.292653</td>\n",
       "      <td>0.915104</td>\n",
       "      <td>0.380308</td>\n",
       "      <td>0.885417</td>\n",
       "    </tr>\n",
       "    <tr>\n",
       "      <th>27</th>\n",
       "      <td>0.243379</td>\n",
       "      <td>0.929427</td>\n",
       "      <td>0.345647</td>\n",
       "      <td>0.900000</td>\n",
       "    </tr>\n",
       "    <tr>\n",
       "      <th>28</th>\n",
       "      <td>0.223592</td>\n",
       "      <td>0.937240</td>\n",
       "      <td>0.553041</td>\n",
       "      <td>0.841667</td>\n",
       "    </tr>\n",
       "    <tr>\n",
       "      <th>29</th>\n",
       "      <td>0.208820</td>\n",
       "      <td>0.937240</td>\n",
       "      <td>0.347077</td>\n",
       "      <td>0.898958</td>\n",
       "    </tr>\n",
       "    <tr>\n",
       "      <th>30</th>\n",
       "      <td>0.193261</td>\n",
       "      <td>0.941927</td>\n",
       "      <td>0.459254</td>\n",
       "      <td>0.869792</td>\n",
       "    </tr>\n",
       "    <tr>\n",
       "      <th>31</th>\n",
       "      <td>0.191722</td>\n",
       "      <td>0.946094</td>\n",
       "      <td>0.315522</td>\n",
       "      <td>0.906250</td>\n",
       "    </tr>\n",
       "    <tr>\n",
       "      <th>32</th>\n",
       "      <td>0.198551</td>\n",
       "      <td>0.937760</td>\n",
       "      <td>0.383494</td>\n",
       "      <td>0.883333</td>\n",
       "    </tr>\n",
       "    <tr>\n",
       "      <th>33</th>\n",
       "      <td>0.180142</td>\n",
       "      <td>0.947396</td>\n",
       "      <td>0.423076</td>\n",
       "      <td>0.878125</td>\n",
       "    </tr>\n",
       "    <tr>\n",
       "      <th>34</th>\n",
       "      <td>0.126149</td>\n",
       "      <td>0.966406</td>\n",
       "      <td>0.281972</td>\n",
       "      <td>0.908333</td>\n",
       "    </tr>\n",
       "    <tr>\n",
       "      <th>35</th>\n",
       "      <td>0.159866</td>\n",
       "      <td>0.955469</td>\n",
       "      <td>0.549154</td>\n",
       "      <td>0.856250</td>\n",
       "    </tr>\n",
       "    <tr>\n",
       "      <th>36</th>\n",
       "      <td>0.107446</td>\n",
       "      <td>0.967969</td>\n",
       "      <td>0.379121</td>\n",
       "      <td>0.902083</td>\n",
       "    </tr>\n",
       "    <tr>\n",
       "      <th>37</th>\n",
       "      <td>0.159320</td>\n",
       "      <td>0.951563</td>\n",
       "      <td>0.312767</td>\n",
       "      <td>0.923958</td>\n",
       "    </tr>\n",
       "    <tr>\n",
       "      <th>38</th>\n",
       "      <td>0.104173</td>\n",
       "      <td>0.970052</td>\n",
       "      <td>0.277292</td>\n",
       "      <td>0.925000</td>\n",
       "    </tr>\n",
       "    <tr>\n",
       "      <th>39</th>\n",
       "      <td>0.077267</td>\n",
       "      <td>0.978385</td>\n",
       "      <td>0.321272</td>\n",
       "      <td>0.920833</td>\n",
       "    </tr>\n",
       "    <tr>\n",
       "      <th>40</th>\n",
       "      <td>0.134281</td>\n",
       "      <td>0.960417</td>\n",
       "      <td>0.250456</td>\n",
       "      <td>0.938542</td>\n",
       "    </tr>\n",
       "    <tr>\n",
       "      <th>41</th>\n",
       "      <td>0.151943</td>\n",
       "      <td>0.955990</td>\n",
       "      <td>0.387080</td>\n",
       "      <td>0.889583</td>\n",
       "    </tr>\n",
       "    <tr>\n",
       "      <th>42</th>\n",
       "      <td>0.143281</td>\n",
       "      <td>0.960156</td>\n",
       "      <td>0.332887</td>\n",
       "      <td>0.925000</td>\n",
       "    </tr>\n",
       "    <tr>\n",
       "      <th>43</th>\n",
       "      <td>0.066050</td>\n",
       "      <td>0.982552</td>\n",
       "      <td>0.312582</td>\n",
       "      <td>0.908333</td>\n",
       "    </tr>\n",
       "    <tr>\n",
       "      <th>44</th>\n",
       "      <td>0.120077</td>\n",
       "      <td>0.963281</td>\n",
       "      <td>0.301243</td>\n",
       "      <td>0.911458</td>\n",
       "    </tr>\n",
       "    <tr>\n",
       "      <th>45</th>\n",
       "      <td>0.119026</td>\n",
       "      <td>0.962240</td>\n",
       "      <td>0.274939</td>\n",
       "      <td>0.929167</td>\n",
       "    </tr>\n",
       "    <tr>\n",
       "      <th>46</th>\n",
       "      <td>0.049225</td>\n",
       "      <td>0.985417</td>\n",
       "      <td>0.297208</td>\n",
       "      <td>0.926042</td>\n",
       "    </tr>\n",
       "    <tr>\n",
       "      <th>47</th>\n",
       "      <td>0.096229</td>\n",
       "      <td>0.971094</td>\n",
       "      <td>0.315328</td>\n",
       "      <td>0.919792</td>\n",
       "    </tr>\n",
       "    <tr>\n",
       "      <th>48</th>\n",
       "      <td>0.139896</td>\n",
       "      <td>0.955990</td>\n",
       "      <td>0.503701</td>\n",
       "      <td>0.875000</td>\n",
       "    </tr>\n",
       "    <tr>\n",
       "      <th>49</th>\n",
       "      <td>0.075618</td>\n",
       "      <td>0.978646</td>\n",
       "      <td>0.239873</td>\n",
       "      <td>0.936458</td>\n",
       "    </tr>\n",
       "  </tbody>\n",
       "</table>\n",
       "</div>"
      ],
      "text/plain": [
       "        loss  categorical_accuracy  val_loss  val_categorical_accuracy\n",
       "0   2.994915              0.058854  3.006305                  0.059375\n",
       "1   2.900720              0.095052  2.852037                  0.100000\n",
       "2   2.824498              0.116146  2.783230                  0.131250\n",
       "3   2.720401              0.161198  2.635974                  0.168750\n",
       "4   2.531960              0.220833  2.400785                  0.257292\n",
       "5   2.327690              0.274740  2.268198                  0.276042\n",
       "6   2.160001              0.315104  2.104480                  0.326042\n",
       "7   1.984472              0.377604  1.983946                  0.359375\n",
       "8   1.840664              0.413542  1.830884                  0.388542\n",
       "9   1.720309              0.469010  1.646799                  0.487500\n",
       "10  1.545800              0.524740  1.622617                  0.479167\n",
       "11  1.453889              0.553125  1.577950                  0.481250\n",
       "12  1.307768              0.599479  1.316240                  0.571875\n",
       "13  1.173222              0.639583  1.247452                  0.601042\n",
       "14  1.048139              0.686458  1.037847                  0.676042\n",
       "15  0.927199              0.729167  1.035730                  0.676042\n",
       "16  0.856000              0.749219  0.969225                  0.692708\n",
       "17  0.712740              0.787760  0.768350                  0.769792\n",
       "18  0.633600              0.818490  0.706880                  0.779167\n",
       "19  0.575005              0.837240  0.731658                  0.768750\n",
       "20  0.503786              0.852865  0.706934                  0.780208\n",
       "21  0.435962              0.877865  0.590928                  0.828125\n",
       "22  0.425915              0.874219  0.631225                  0.807292\n",
       "23  0.337253              0.909115  0.472874                  0.854167\n",
       "24  0.326149              0.906771  0.420149                  0.865625\n",
       "25  0.260240              0.929427  0.498125                  0.865625\n",
       "26  0.292653              0.915104  0.380308                  0.885417\n",
       "27  0.243379              0.929427  0.345647                  0.900000\n",
       "28  0.223592              0.937240  0.553041                  0.841667\n",
       "29  0.208820              0.937240  0.347077                  0.898958\n",
       "30  0.193261              0.941927  0.459254                  0.869792\n",
       "31  0.191722              0.946094  0.315522                  0.906250\n",
       "32  0.198551              0.937760  0.383494                  0.883333\n",
       "33  0.180142              0.947396  0.423076                  0.878125\n",
       "34  0.126149              0.966406  0.281972                  0.908333\n",
       "35  0.159866              0.955469  0.549154                  0.856250\n",
       "36  0.107446              0.967969  0.379121                  0.902083\n",
       "37  0.159320              0.951563  0.312767                  0.923958\n",
       "38  0.104173              0.970052  0.277292                  0.925000\n",
       "39  0.077267              0.978385  0.321272                  0.920833\n",
       "40  0.134281              0.960417  0.250456                  0.938542\n",
       "41  0.151943              0.955990  0.387080                  0.889583\n",
       "42  0.143281              0.960156  0.332887                  0.925000\n",
       "43  0.066050              0.982552  0.312582                  0.908333\n",
       "44  0.120077              0.963281  0.301243                  0.911458\n",
       "45  0.119026              0.962240  0.274939                  0.929167\n",
       "46  0.049225              0.985417  0.297208                  0.926042\n",
       "47  0.096229              0.971094  0.315328                  0.919792\n",
       "48  0.139896              0.955990  0.503701                  0.875000\n",
       "49  0.075618              0.978646  0.239873                  0.936458"
      ]
     },
     "execution_count": 47,
     "metadata": {},
     "output_type": "execute_result"
    }
   ],
   "source": [
    "import pandas as pd \n",
    "pd.DataFrame(GRU_EthSLR.history)"
   ]
  },
  {
   "cell_type": "code",
   "execution_count": 42,
   "id": "e0a782f4",
   "metadata": {},
   "outputs": [
    {
     "data": {
      "text/plain": [
       "<function matplotlib.pyplot.show(close=None, block=None)>"
      ]
     },
     "execution_count": 42,
     "metadata": {},
     "output_type": "execute_result"
    },
    {
     "data": {
      "image/png": "[encoded data removed]",
      "text/plain": [
       "<Figure size 640x480 with 1 Axes>"
      ]
     },
     "metadata": {},
     "output_type": "display_data"
    }
   ],
   "source": [
    "acc = GRU_EthSLR.history['categorical_accuracy']\n",
    "acc_val = GRU_EthSLR.history['val_categorical_accuracy']\n",
    "epochs = range(1, len(acc) + 1)\n",
    "plt.plot(epochs, acc, 'g', label='Training accuracy')\n",
    "plt.plot(epochs, acc_val, 'bo', label='Validation accuracy')\n",
    "plt.title('Training and Validation accuracy')\n",
    "plt.xlabel('Epochs')\n",
    "plt.ylabel('Accuracy')\n",
    "plt.legend()\n",
    "plt.show"
   ]
  },
  {
   "cell_type": "code",
   "execution_count": 43,
   "id": "ba875dc2",
   "metadata": {},
   "outputs": [
    {
     "data": {
      "text/plain": [
       "<function matplotlib.pyplot.show(close=None, block=None)>"
      ]
     },
     "execution_count": 43,
     "metadata": {},
     "output_type": "execute_result"
    },
    {
     "data": {
      "image/png": "[encoded data removed]",
      "text/plain": [
       "<Figure size 640x480 with 1 Axes>"
      ]
     },
     "metadata": {},
     "output_type": "display_data"
    }
   ],
   "source": [
    "loss1 = GRU_EthSLR.history['loss']\n",
    "val_loss1 = GRU_EthSLR.history['val_loss']\n",
    "epochs = range(1, len(acc) + 1)\n",
    "plt.plot(epochs, loss1, 'g', label='Loss')\n",
    "plt.plot(epochs, val_loss1, 'bo', label='Validation_Loss')\n",
    "plt.title('Loss and Validation_Loss')\n",
    "plt.xlabel('Epochs')\n",
    "plt.ylabel('Loss')\n",
    "plt.legend()\n",
    "plt.show"
   ]
  },
  {
   "cell_type": "code",
   "execution_count": 78,
   "id": "9c5b4e72",
   "metadata": {},
   "outputs": [
    {
     "name": "stdout",
     "output_type": "stream",
     "text": [
      "24/24 [==============================] - 11s 432ms/step\n"
     ]
    }
   ],
   "source": [
    "from sklearn import metrics\n",
    "yhat = model.predict(x_test)"
   ]
  },
  {
   "cell_type": "code",
   "execution_count": 79,
   "id": "c52261a8",
   "metadata": {},
   "outputs": [],
   "source": [
    "ytrue = np.argmax(y_test, axis=1).tolist()\n",
    "yhat = np.argmax(yhat, axis=1).tolist()"
   ]
  },
  {
   "cell_type": "code",
   "execution_count": null,
   "id": "1c815d2f",
   "metadata": {},
   "outputs": [],
   "source": [
    "from sklearn.metrics import multilabel_confusion_matrix, accuracy_score, precision_score, recall_score, f1_score"
   ]
  },
  {
   "cell_type": "code",
   "execution_count": null,
   "id": "2642a8e1",
   "metadata": {},
   "outputs": [],
   "source": [
    "multilabel_confusion_matrix(ytrue, yhat)"
   ]
  },
  {
   "cell_type": "code",
   "execution_count": 80,
   "id": "1a3aab34",
   "metadata": {},
   "outputs": [
    {
     "name": "stdout",
     "output_type": "stream",
     "text": [
      "              precision    recall  f1-score   support\n",
      "\n",
      "         ሀዘን       0.81      1.00      0.90        35\n",
      "         ህመም       0.15      0.24      0.18        38\n",
      "         ለምን       0.31      0.95      0.46        38\n",
      "        ልምምድ       0.41      0.34      0.37        38\n",
      "         መራራ       0.83      1.00      0.90        38\n",
      "        መናደድ       0.25      0.05      0.09        37\n",
      "        መጀመር       1.00      0.08      0.15        38\n",
      "        መገረም       0.68      1.00      0.81        38\n",
      "         መጥፎ       0.50      0.30      0.37        40\n",
      "        መጨረስ       0.71      0.63      0.67        38\n",
      "        መጨነቅ       0.29      0.13      0.18        39\n",
      "        ማሸነፍ       0.31      0.38      0.34        40\n",
      "        ምስጋና       0.00      0.00      0.00        38\n",
      "         ቀላል       0.35      0.97      0.51        38\n",
      "         ተነስ       0.48      0.28      0.35        40\n",
      "       አስቸጋሪ       0.87      0.71      0.78        38\n",
      "         እህት       0.43      0.08      0.14        37\n",
      "        ወንድም       0.45      0.24      0.31        38\n",
      "        ይቅርታ       0.64      1.00      0.78        36\n",
      "         ጎበዝ       0.25      0.11      0.15        38\n",
      "\n",
      "    accuracy                           0.47       760\n",
      "   macro avg       0.49      0.47      0.42       760\n",
      "weighted avg       0.48      0.47      0.42       760\n",
      "\n"
     ]
    }
   ],
   "source": [
    "from sklearn.metrics import classification_report\n",
    "\n",
    "label_names = ['ሀዘን','ህመም','ለምን', 'ልምምድ', 'መራራ', 'መናደድ', 'መጀመር', 'መገረም', \n",
    "                    'መጥፎ', 'መጨረስ', 'መጨነቅ', 'ማሸነፍ', 'ምስጋና', 'ቀላል', 'ተነስ', 'አስቸጋሪ', \n",
    "                    'እህት', 'ወንድም', 'ይቅርታ', 'ጎበዝ']\n",
    "\n",
    "#print(classification_report(ytrue, yhat,target_names=label_names))\n",
    "print(classification_report(ytrue, yhat, labels=np.arange(0, len(label_names),1), target_names=label_names, zero_division=0))"
   ]
  },
  {
   "cell_type": "code",
   "execution_count": 44,
   "id": "4d089622",
   "metadata": {},
   "outputs": [],
   "source": [
    "from tensorflow.keras.models import save_model\n",
    "from pickle import dump,load"
   ]
  },
  {
   "cell_type": "code",
   "execution_count": 45,
   "id": "f4d20fbd",
   "metadata": {},
   "outputs": [],
   "source": [
    "#save the model with different names\n",
    "save_model(model,'GRU_Best_candidateIndependent.h5')"
   ]
  },
  {
   "cell_type": "code",
   "execution_count": null,
   "id": "f05f97a4",
   "metadata": {},
   "outputs": [],
   "source": [
    "sequence = [] # capture frames\n",
    "sentence = [] # to concatenate inputs\n",
    "prediction = []\n",
    "threshold = 0.5\n",
    "\n",
    "cap = cv2.VideoCapture(1)\n",
    "\n",
    "#set mediapipe model detection and tracking confidence\n",
    "with mp_holistic.Holistic(min_detection_confidence=0.5, min_tracking_confidence=0.5) as holistic: \n",
    "    \n",
    "    # Create loop to collect the words\n",
    "    for action in actions:\n",
    "        \n",
    "        # Create loop to collect videos for each word\n",
    "        for sequence in range(no_sequences):\n",
    "            \n",
    "            # Collect specified number of frames for each video\n",
    "            for frame_num in range(sequence_length):\n",
    "                \n",
    "        \n",
    "                # read inputs from signers\n",
    "                ret, frame = cap.read()\n",
    "\n",
    "                image, results = mediapipe_detection(frame, holistic)\n",
    "                #print(results)\n",
    "\n",
    "                #Draw landmarks\n",
    "                draw_styled_landmarks(image, results)\n",
    "                \n",
    "                # start collecting input videos until specified number is reached\n",
    "                # 2 second is given a break to prepare for the next signing\n",
    "                if frame_num == 0:\n",
    "                    cv2.putText(image, 'Starting Collection ...', (120, 200), \n",
    "                                cv2.FONT_HERSHEY_SIMPLEX, 1, (0, 255, 0), 4, cv2.LINE_AA)\n",
    "                    cv2.putText(image, 'Collecting frames for {} Video Number {}'. format(action, sequence), (15, 12),\n",
    "                               cv2.FONT_HERSHEY_SIMPLEX, 0.5, (0, 0, 255), 1, cv2.LINE_AA)\n",
    "                    cv2.waitKey(2000)\n",
    "                else:\n",
    "                    cv2.putText(image, 'Collecting frames for {} Video Number {}'. format(action, sequence), (15, 12),\n",
    "                               cv2.FONT_HERSHEY_SIMPLEX, 0.5, (0, 0, 255), 1, cv2.LINE_AA)\n",
    "                \n",
    "                # Extracting and saving keypoints to their respective folders as numpy arrays\n",
    "                keypoints = extract_keypoints(results)\n",
    "                npy_path = os.path.join(DATA_PATH, action, str(sequence), str(frame_num))\n",
    "                np.save(npy_path, keypoints)\n",
    "\n",
    "                # Prediction logic\n",
    "                keypoints = extract_keypoints(results)\n",
    "                sequence.append(keypoints)\n",
    "                sequence = sequence[-30:]\n",
    "                \n",
    "                if len(sequence) == 30:\n",
    "                    res = model.predict(np.expand_dims(sequence, axis=0))[0]\n",
    "                    print(actions[np.argmax(res)])\n",
    "                    predictions.append(np.argmax(res))\n",
    "                \n",
    "                # show real time prediction\n",
    "                if np.unique(predictions[-10:])[0] == np.argmax(res):\n",
    "                    if res[np.argmax(res)] > threshold: \n",
    "\n",
    "                        if len(sentence) > 0:\n",
    "                            \n",
    "                            if actions[np.argmax(res)] != sentence[-1]:\n",
    "                                sentence.append(actions[np.argmax(res)])\n",
    "                        else:\n",
    "                            sentence.append(actions[np.argmax(res)])\n",
    "                \n",
    "                if len(sentence) > 5:\n",
    "                    sentence = sentence[-5:]\n",
    "                    \n",
    "                cv2.rectange(image, (0, 0), (640, 40), (245, 117, 16), -1)\n",
    "                cv2.putText(image, ' '.join(sentence), (3, 30),\n",
    "                           cv2.FONT_HERSHEY_SIMPLEX, 1, (255, 255, 255), 2, cv2.LINE_AA)\n",
    "                        \n",
    "                \n",
    "                \n",
    "                cv2.imshow('Interface', image)\n",
    "                \n",
    "                if cv2.waitKey(10) & 0xFF == ord('q'):\n",
    "                    break\n",
    "    cap.release()\n",
    "    cv2.destroyAllWindows()"
   ]
  }
 ],
 "metadata": {
  "kernelspec": {
   "display_name": "Python 3 (ipykernel)",
   "language": "python",
   "name": "python3"
  },
  "language_info": {
   "codemirror_mode": {
    "name": "ipython",
    "version": 3
   },
   "file_extension": ".py",
   "mimetype": "text/x-python",
   "name": "python",
   "nbconvert_exporter": "python",
   "pygments_lexer": "ipython3",
   "version": "3.9.13"
  }
 },
 "nbformat": 4,
 "nbformat_minor": 5
}
