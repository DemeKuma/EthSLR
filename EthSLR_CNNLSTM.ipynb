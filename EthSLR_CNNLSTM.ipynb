{
 "cells": [
  {
   "cell_type": "code",
   "execution_count": 2,
   "id": "ec09690e",
   "metadata": {},
   "outputs": [],
   "source": [
    "import cv2\n",
    "import numpy as np\n",
    "import os\n",
    "from matplotlib import pyplot as plt\n",
    "import time\n",
    "import mediapipe as mp\n",
    "import tensorflow as tf"
   ]
  },
  {
   "cell_type": "code",
   "execution_count": 3,
   "id": "42c9f80e",
   "metadata": {},
   "outputs": [],
   "source": [
    "from tensorflow.keras.models import Sequential # is used to build a sequential NN\n",
    "from tensorflow.keras.layers import LSTM, Dense, Dropout, Flatten, BatchNormalization, ConvLSTM2D\n",
    "from tensorflow.keras.layers import Conv1D, TimeDistributed\n",
    "from tensorflow.keras.callbacks import TensorBoard\n",
    "from tensorflow.keras.optimizers import Adam"
   ]
  },
  {
   "cell_type": "code",
   "execution_count": 4,
   "id": "63518b23",
   "metadata": {},
   "outputs": [],
   "source": [
    "from sklearn.model_selection import train_test_split # to automatically split the dataset into trining and testing sets\n",
    "from tensorflow.keras.utils import to_categorical # to convert data to one hot encoded data"
   ]
  },
  {
   "cell_type": "code",
   "execution_count": 5,
   "id": "1b6623e0",
   "metadata": {},
   "outputs": [],
   "source": [
    "from tensorflow import keras\n",
    "from tensorflow.keras import layers\n",
    "import keras_tuner as kt \n",
    "from keras_tuner.tuners import BayesianOptimization\n",
    "from keras_tuner.engine.hyperparameters import HyperParameters"
   ]
  },
  {
   "cell_type": "markdown",
   "id": "b0dd918a",
   "metadata": {},
   "source": [
    "#Data for Signer Dependent mode "
   ]
  },
  {
   "cell_type": "code",
   "execution_count": 6,
   "id": "36625bce",
   "metadata": {},
   "outputs": [],
   "source": [
    "#path for exported data, numpy arrays\n",
    "DATA_PATH = os.path.join('EthSL_Dataset')\n",
    "actions = np.array(['ሀዘን','ህመም','ለምን', 'ልምምድ', 'መራራ', 'መናደድ', 'መጀመር', 'መገረም', \n",
    "                    'መጥፎ', 'መጨረስ', 'መጨነቅ', 'ማሸነፍ', 'ምስጋና', 'ቀላል', 'ተነስ', 'አስቸጋሪ', \n",
    "                    'እህት', 'ወንድም', 'ይቅርታ', 'ጎበዝ'])\n",
    "\n",
    "no_sequences = 40 #number of videos to be captured is set to 280\n",
    "sequence_length = 30 #number of frames in each video is set to 30"
   ]
  },
  {
   "cell_type": "code",
   "execution_count": 7,
   "id": "d5b0ca9f",
   "metadata": {},
   "outputs": [],
   "source": [
    "label_map = {label:num for num, label in enumerate(actions)}"
   ]
  },
  {
   "cell_type": "code",
   "execution_count": 8,
   "id": "8a4d1fbb",
   "metadata": {},
   "outputs": [],
   "source": [
    "# build big array which contains all data\n",
    "sequences, labels = [], [] # feature and label data respectively\n",
    "for action in actions:\n",
    "    for sequence in range(no_sequences):\n",
    "        window = [] # represents all frames in a specific video\n",
    "        for frame_num in range(sequence_length):\n",
    "            res = np.load(os.path.join(DATA_PATH, action, str(sequence), \"{}.npy\".format(frame_num)))\n",
    "            window.append(res)\n",
    "        sequences.append(window) # all data for each word is appended and a single numpy array is created\n",
    "        labels.append(label_map[action])"
   ]
  },
  {
   "cell_type": "code",
   "execution_count": 9,
   "id": "977d13d5",
   "metadata": {},
   "outputs": [],
   "source": [
    "x = np.array(sequences)"
   ]
  },
  {
   "cell_type": "code",
   "execution_count": 10,
   "id": "6de694d6",
   "metadata": {},
   "outputs": [],
   "source": [
    "y = to_categorical(labels).astype(int)"
   ]
  },
  {
   "cell_type": "code",
   "execution_count": 11,
   "id": "64a2795d",
   "metadata": {},
   "outputs": [],
   "source": [
    "x_train, x_test, y_train, y_test = train_test_split(x, y, test_size=0.1)"
   ]
  },
  {
   "cell_type": "code",
   "execution_count": 12,
   "id": "7535a5d4",
   "metadata": {},
   "outputs": [
    {
     "data": {
      "text/plain": [
       "((5040, 30, 1662), (560, 30, 1662), (5040, 20), (560, 20))"
      ]
     },
     "execution_count": 12,
     "metadata": {},
     "output_type": "execute_result"
    }
   ],
   "source": [
    "x_train.shape, x_test.shape, y_train.shape, y_test.shape"
   ]
  },
  {
   "cell_type": "markdown",
   "id": "1122e941",
   "metadata": {},
   "source": [
    "#Data for Signer Independent mode"
   ]
  },
  {
   "cell_type": "markdown",
   "id": "ed3e8b55",
   "metadata": {},
   "source": [
    "#Load training data"
   ]
  },
  {
   "cell_type": "code",
   "execution_count": 10,
   "id": "82a11898",
   "metadata": {},
   "outputs": [],
   "source": [
    "#path for exported data, numpy arrays to load training data\n",
    "DATA_PATH_train = os.path.join('EthSL_Train')\n",
    "actions_train = np.array(['ሀዘን','ህመም','ለምን', 'ልምምድ', 'መራራ', 'መናደድ', 'መጀመር', 'መገረም', \n",
    "                    'መጥፎ', 'መጨረስ', 'መጨነቅ', 'ማሸነፍ', 'ምስጋና', 'ቀላል', 'ተነስ', 'አስቸጋሪ', \n",
    "                    'እህት', 'ወንድም', 'ይቅርታ', 'ጎበዝ'])\n",
    "\n",
    "no_sequences_train = 240 #number of videos to be captured is set to 240\n",
    "sequence_length_train = 30 #number of frames in each video is set to 30"
   ]
  },
  {
   "cell_type": "code",
   "execution_count": 11,
   "id": "8fa038a1",
   "metadata": {},
   "outputs": [],
   "source": [
    "label_map_train = {label:num for num, label in enumerate(actions_train)}"
   ]
  },
  {
   "cell_type": "code",
   "execution_count": 12,
   "id": "5218d759",
   "metadata": {},
   "outputs": [],
   "source": [
    "# build big array which contains all training data\n",
    "sequences_train, labels_train = [], [] # feature and label data respectively\n",
    "for action_train in actions_train:\n",
    "    for sequence_train in range(no_sequences_train):\n",
    "        window_train = [] # represents all frames in a specific video\n",
    "        for frame_num_train in range(sequence_length_train):\n",
    "            res_train = np.load(os.path.join(DATA_PATH_train, action_train, str(sequence_train), \"{}.npy\".format(frame_num_train)))\n",
    "            window_train.append(res_train)\n",
    "        sequences_train.append(window_train) # all data for each word is appended and a single numpy array is created\n",
    "        labels_train.append(label_map_train[action_train])"
   ]
  },
  {
   "cell_type": "code",
   "execution_count": 13,
   "id": "12fff3cc",
   "metadata": {},
   "outputs": [],
   "source": [
    "x_training = np.array(sequences_train)"
   ]
  },
  {
   "cell_type": "code",
   "execution_count": 15,
   "id": "e35213c7",
   "metadata": {},
   "outputs": [],
   "source": [
    "y_training = to_categorical(labels_train).astype(int)"
   ]
  },
  {
   "cell_type": "code",
   "execution_count": 84,
   "id": "d4a80e55",
   "metadata": {},
   "outputs": [],
   "source": [
    "x_train, x_val, y_train, y_val = train_test_split(x_training, y_training, test_size=0.12)"
   ]
  },
  {
   "cell_type": "code",
   "execution_count": 85,
   "id": "5b8035c6",
   "metadata": {},
   "outputs": [
    {
     "data": {
      "text/plain": [
       "((4224, 30, 1662), (576, 30, 1662), (4224, 20), (576, 20))"
      ]
     },
     "execution_count": 85,
     "metadata": {},
     "output_type": "execute_result"
    }
   ],
   "source": [
    "x_train.shape, x_val.shape, y_train.shape, y_val.shape"
   ]
  },
  {
   "cell_type": "markdown",
   "id": "ebdf4634",
   "metadata": {},
   "source": [
    "#Load test data"
   ]
  },
  {
   "cell_type": "code",
   "execution_count": 18,
   "id": "cd3810e9",
   "metadata": {},
   "outputs": [],
   "source": [
    "#path for exported data, numpy arrays to load test data\n",
    "DATA_PATH_test = os.path.join('EthSL_Test')\n",
    "actions_test = np.array(['ሀዘን','ህመም','ለምን', 'ልምምድ', 'መራራ', 'መናደድ', 'መጀመር', 'መገረም', \n",
    "                    'መጥፎ', 'መጨረስ', 'መጨነቅ', 'ማሸነፍ', 'ምስጋና', 'ቀላል', 'ተነስ', 'አስቸጋሪ', \n",
    "                    'እህት', 'ወንድም', 'ይቅርታ', 'ጎበዝ'])\n",
    "\n",
    "no_sequences_test = 40 #number of videos to be captured is set to 40\n",
    "sequence_length_test = 30 #number of frames in each video is set to 30"
   ]
  },
  {
   "cell_type": "code",
   "execution_count": 19,
   "id": "ad767ee0",
   "metadata": {},
   "outputs": [],
   "source": [
    "label_map_test = {label:num for num, label in enumerate(actions_test)}"
   ]
  },
  {
   "cell_type": "code",
   "execution_count": 20,
   "id": "f8b54d7b",
   "metadata": {},
   "outputs": [],
   "source": [
    "# build big array which contains all testing data\n",
    "sequences_test, labels_test = [], [] # feature and label data respectively\n",
    "for action_test in actions_test:\n",
    "    for sequence_test in range(no_sequences_test):\n",
    "        window_test = [] # represents all frames in a specific video\n",
    "        for frame_num_test in range(sequence_length_test):\n",
    "            res_test = np.load(os.path.join(DATA_PATH_test, action_test, str(sequence_test), \"{}.npy\".format(frame_num_test)))\n",
    "            window_test.append(res_test)\n",
    "        sequences_test.append(window_test) # all data for each word is appended and a single numpy array is created\n",
    "        labels_test.append(label_map_test[action_test])"
   ]
  },
  {
   "cell_type": "code",
   "execution_count": 21,
   "id": "71661662",
   "metadata": {},
   "outputs": [],
   "source": [
    "x_testing = np.array(sequences_test)"
   ]
  },
  {
   "cell_type": "code",
   "execution_count": 22,
   "id": "9d0117ce",
   "metadata": {},
   "outputs": [],
   "source": [
    "y_testing = to_categorical(labels_test).astype(int)"
   ]
  },
  {
   "cell_type": "code",
   "execution_count": 61,
   "id": "88be8539",
   "metadata": {},
   "outputs": [],
   "source": [
    "#To split some of the data and take the larger portion for testing\n",
    "x_trainT, x_test, y_trainT, y_test = train_test_split(x_testing, y_testing, test_size= 0.95)"
   ]
  },
  {
   "cell_type": "markdown",
   "id": "ddc580e4",
   "metadata": {},
   "source": [
    "#Reshape the train and test data to fit for CNN model"
   ]
  },
  {
   "cell_type": "code",
   "execution_count": 14,
   "id": "9cdb9af5",
   "metadata": {},
   "outputs": [],
   "source": [
    "# it is necessary to change the shape of the input_shape so that it can fit to CNNLSTM model\n",
    "n_timesteps, n_features, n_outputs = x_train.shape[1], x_train.shape[2], y_train.shape[1]\n",
    "n_steps, n_length = 2, 15\n",
    "x_train = x_train.reshape((x_train.shape[0], n_steps, n_length, n_features))"
   ]
  },
  {
   "cell_type": "code",
   "execution_count": 87,
   "id": "f7ff9da8",
   "metadata": {},
   "outputs": [],
   "source": [
    "x_val = x_val.reshape((x_val.shape[0], n_steps, n_length, n_features))"
   ]
  },
  {
   "cell_type": "code",
   "execution_count": 14,
   "id": "7dc7777f",
   "metadata": {},
   "outputs": [],
   "source": [
    "x_test = x_test.reshape((x_test.shape[0], n_steps, n_length, n_features))"
   ]
  },
  {
   "cell_type": "code",
   "execution_count": 16,
   "id": "f32cf8d1",
   "metadata": {},
   "outputs": [
    {
     "data": {
      "text/plain": [
       "((5040, 2, 15, 1662), (560, 2, 15, 1662))"
      ]
     },
     "execution_count": 16,
     "metadata": {},
     "output_type": "execute_result"
    }
   ],
   "source": [
    "x_train.shape, x_test.shape"
   ]
  },
  {
   "cell_type": "code",
   "execution_count": 15,
   "id": "924572b2",
   "metadata": {},
   "outputs": [],
   "source": [
    "def build_model(hp):\n",
    "    model = Sequential()\n",
    "    model.add(TimeDistributed(Conv1D(\n",
    "        filters=hp.Int('conv_1_filter', min_value=32, max_value=128, step=16),\n",
    "        kernel_size=hp.Choice('conv_1_kernel', values = [3,5]),\n",
    "        activation = 'relu',\n",
    "        padding = 'same',\n",
    "        input_shape=(None, n_length, n_features))))\n",
    "    model.add(TimeDistributed(BatchNormalization()))\n",
    "    \n",
    "    for i in range(hp.Int('middle_n_layers', 1, 7)):\n",
    "        model.add(TimeDistributed(Conv1D(\n",
    "        filters=hp.Int('middle_filters_' + str(i), min_value=32, max_value=128, step=16),\n",
    "        kernel_size=hp.Choice('middle_conv_kernel_' + str(i), values = [3,5]),\n",
    "        activation = 'relu',\n",
    "        padding = 'same')))\n",
    "        model.add(TimeDistributed(BatchNormalization()))\n",
    "        #model.add(TimeDistributed(Dropout(hp.Float('Dropout_rate1', min_value = 0, max_value = 0.5,step = 0.1))))\n",
    "        \n",
    "    #model.add(TimeDistributed(Dropout(hp.Float('Dropout_rate', min_value = 0, max_value = 0.5,step = 0.1))))   \n",
    "    model.add(TimeDistributed(Flatten()))\n",
    "    \n",
    "    for i in range(hp.Int('lstm_layers', 1, 10)):\n",
    "        model.add(LSTM(hp.Int(f'lstm_{i}_units',min_value=32,max_value=512,step=32), recurrent_activation='hard_sigmoid', return_sequences=True))\n",
    "        #model.add(Dropout(hp.Float('Dropout_rate2',min_value=0,max_value=0.5,step=0.1)))\n",
    "    model.add(LSTM(hp.Int('layer_2_neurons',min_value=32,max_value=512,step=32), recurrent_activation='hard_sigmoid'))\n",
    "    #model.add(Dropout(hp.Float('Dropout_rate',min_value=0,max_value=0.5,step=0.1)))\n",
    "    \n",
    "    model.add(Dense(units=hp.Int('dense_1_units', min_value=32, max_value=128, step=16),\n",
    "                    activation=hp.Choice('dense_activation',values=['relu', 'sigmoid'],default='relu')))  \n",
    "    #model.add(Dropout(hp.Float('Dropout_rate',min_value=0,max_value=0.5,step=0.1)))\n",
    "    model.add(Dense(20, activation='softmax'))\n",
    "    \n",
    "    #compilation of model\n",
    "    model.compile(optimizer=keras.optimizers.Adam(hp.Choice('learning_rate', values=[1e-3, 1e-4, 1e-5, 1e-6, 1e-7, 1e-8])),\n",
    "              loss='categorical_crossentropy',\n",
    "              metrics=['categorical_accuracy'])\n",
    "    return model"
   ]
  },
  {
   "cell_type": "code",
   "execution_count": 18,
   "id": "bf19a0cb",
   "metadata": {},
   "outputs": [],
   "source": [
    "stop_early = tf.keras.callbacks.EarlyStopping(monitor= 'val_categorical_accuracy', patience = 5)"
   ]
  },
  {
   "cell_type": "code",
   "execution_count": 19,
   "id": "f1eed701",
   "metadata": {},
   "outputs": [
    {
     "name": "stdout",
     "output_type": "stream",
     "text": [
      "INFO:tensorflow:Reloading Tuner from tuneCNNLSTM_Round2\\CNNLSTMTunerReshaped\\tuner0.json\n"
     ]
    }
   ],
   "source": [
    "#A tuner for CNNLSTM\n",
    "tunerCNNLSTM = BayesianOptimization(\n",
    "        build_model,\n",
    "        objective = 'val_categorical_accuracy',\n",
    "        #overwrite = True,\n",
    "        max_trials = 10,\n",
    "        alpha = 0.0001,\n",
    "        beta = 2.6,\n",
    "        max_retries_per_trial = 1,\n",
    "        max_consecutive_failed_trials = 3,\n",
    "        directory = 'tuneCNNLSTM_Round2',\n",
    "        project_name=\"CNNLSTMTunerReshaped\"\n",
    "        )"
   ]
  },
  {
   "cell_type": "code",
   "execution_count": 22,
   "id": "d6f8595f",
   "metadata": {
    "scrolled": false
   },
   "outputs": [
    {
     "name": "stdout",
     "output_type": "stream",
     "text": [
      "Trial 10 Complete [00h 14m 12s]\n",
      "val_categorical_accuracy: 0.0446428582072258\n",
      "\n",
      "Best val_categorical_accuracy So Far: 0.8680555820465088\n",
      "Total elapsed time: 05h 59m 22s\n",
      "INFO:tensorflow:Oracle triggered exit\n"
     ]
    },
    {
     "name": "stderr",
     "output_type": "stream",
     "text": [
      "INFO:tensorflow:Oracle triggered exit\n"
     ]
    }
   ],
   "source": [
    "tunerCNNLSTM.search(\n",
    "        x_train,\n",
    "        y_train,\n",
    "        epochs = 70,\n",
    "        batch_size = 16,\n",
    "        validation_split = 0.2,\n",
    "        callbacks = [stop_early]\n",
    "        )"
   ]
  },
  {
   "cell_type": "code",
   "execution_count": 20,
   "id": "3c53fe23",
   "metadata": {},
   "outputs": [],
   "source": [
    "tunerCNNLSTM.reload()"
   ]
  },
  {
   "cell_type": "code",
   "execution_count": 21,
   "id": "265abc88",
   "metadata": {},
   "outputs": [],
   "source": [
    "best_hps = tunerCNNLSTM.get_best_hyperparameters(num_trials = 1)[0]"
   ]
  },
  {
   "cell_type": "code",
   "execution_count": 16,
   "id": "d2323a7a",
   "metadata": {
    "scrolled": false
   },
   "outputs": [
    {
     "name": "stdout",
     "output_type": "stream",
     "text": [
      "Results summary\n",
      "Results in tuneCNNLSTM_Round2\\CNNLSTMTunerReshaped\n",
      "Showing 10 best trials\n",
      "<keras_tuner.engine.objective.Objective object at 0x0000026CB8E1F9A0>\n",
      "Trial summary\n",
      "Hyperparameters:\n",
      "conv_1_filter: 48\n",
      "conv_1_kernel: 3\n",
      "middle_n_layers: 1\n",
      "middle_filters_0: 80\n",
      "middle_conv_kernel_0: 3\n",
      "lstm_layers: 2\n",
      "lstm_0_units: 288\n",
      "layer_2_neurons: 224\n",
      "dense_1_units: 96\n",
      "dense_activation: sigmoid\n",
      "learning_rate: 0.0001\n",
      "middle_filters_1: 32\n",
      "middle_conv_kernel_1: 5\n",
      "lstm_1_units: 512\n",
      "Score: 0.8680555820465088\n",
      "Trial summary\n",
      "Hyperparameters:\n",
      "conv_1_filter: 80\n",
      "conv_1_kernel: 5\n",
      "middle_n_layers: 2\n",
      "middle_filters_0: 112\n",
      "middle_conv_kernel_0: 5\n",
      "lstm_layers: 2\n",
      "lstm_0_units: 64\n",
      "layer_2_neurons: 512\n",
      "dense_1_units: 96\n",
      "dense_activation: relu\n",
      "learning_rate: 0.001\n",
      "middle_filters_1: 32\n",
      "middle_conv_kernel_1: 3\n",
      "lstm_1_units: 32\n",
      "Score: 0.6051587462425232\n",
      "Trial summary\n",
      "Hyperparameters:\n",
      "conv_1_filter: 80\n",
      "conv_1_kernel: 3\n",
      "middle_n_layers: 7\n",
      "middle_filters_0: 112\n",
      "middle_conv_kernel_0: 3\n",
      "lstm_layers: 6\n",
      "lstm_0_units: 128\n",
      "layer_2_neurons: 192\n",
      "dense_1_units: 48\n",
      "dense_activation: sigmoid\n",
      "learning_rate: 0.001\n",
      "middle_filters_1: 128\n",
      "middle_conv_kernel_1: 3\n",
      "lstm_1_units: 288\n",
      "middle_filters_2: 32\n",
      "middle_conv_kernel_2: 3\n",
      "middle_filters_3: 32\n",
      "middle_conv_kernel_3: 3\n",
      "middle_filters_4: 32\n",
      "middle_conv_kernel_4: 3\n",
      "middle_filters_5: 32\n",
      "middle_conv_kernel_5: 3\n",
      "middle_filters_6: 32\n",
      "middle_conv_kernel_6: 3\n",
      "lstm_2_units: 32\n",
      "lstm_3_units: 32\n",
      "lstm_4_units: 32\n",
      "lstm_5_units: 32\n",
      "Score: 0.2261904776096344\n",
      "Trial summary\n",
      "Hyperparameters:\n",
      "conv_1_filter: 64\n",
      "conv_1_kernel: 5\n",
      "middle_n_layers: 3\n",
      "middle_filters_0: 48\n",
      "middle_conv_kernel_0: 3\n",
      "lstm_layers: 1\n",
      "lstm_0_units: 64\n",
      "layer_2_neurons: 320\n",
      "dense_1_units: 64\n",
      "dense_activation: relu\n",
      "learning_rate: 1e-06\n",
      "middle_filters_1: 80\n",
      "middle_conv_kernel_1: 5\n",
      "lstm_1_units: 416\n",
      "middle_filters_2: 128\n",
      "middle_conv_kernel_2: 3\n",
      "middle_filters_3: 128\n",
      "middle_conv_kernel_3: 5\n",
      "middle_filters_4: 112\n",
      "middle_conv_kernel_4: 3\n",
      "middle_filters_5: 112\n",
      "middle_conv_kernel_5: 3\n",
      "middle_filters_6: 112\n",
      "middle_conv_kernel_6: 3\n",
      "lstm_2_units: 32\n",
      "lstm_3_units: 384\n",
      "lstm_4_units: 64\n",
      "lstm_5_units: 320\n",
      "lstm_6_units: 64\n",
      "lstm_7_units: 448\n",
      "lstm_8_units: 32\n",
      "lstm_9_units: 320\n",
      "Score: 0.1696428507566452\n",
      "Trial summary\n",
      "Hyperparameters:\n",
      "conv_1_filter: 128\n",
      "conv_1_kernel: 5\n",
      "middle_n_layers: 2\n",
      "middle_filters_0: 112\n",
      "middle_conv_kernel_0: 3\n",
      "lstm_layers: 1\n",
      "lstm_0_units: 160\n",
      "layer_2_neurons: 512\n",
      "dense_1_units: 96\n",
      "dense_activation: relu\n",
      "learning_rate: 1e-07\n",
      "middle_filters_1: 96\n",
      "middle_conv_kernel_1: 5\n",
      "lstm_1_units: 512\n",
      "middle_filters_2: 64\n",
      "middle_conv_kernel_2: 3\n",
      "middle_filters_3: 112\n",
      "middle_conv_kernel_3: 3\n",
      "middle_filters_4: 128\n",
      "middle_conv_kernel_4: 5\n",
      "middle_filters_5: 128\n",
      "middle_conv_kernel_5: 5\n",
      "middle_filters_6: 112\n",
      "middle_conv_kernel_6: 3\n",
      "lstm_2_units: 416\n",
      "lstm_3_units: 288\n",
      "lstm_4_units: 448\n",
      "lstm_5_units: 448\n",
      "lstm_6_units: 96\n",
      "lstm_7_units: 416\n",
      "lstm_8_units: 64\n",
      "lstm_9_units: 480\n",
      "Score: 0.1299603134393692\n",
      "Trial summary\n",
      "Hyperparameters:\n",
      "conv_1_filter: 64\n",
      "conv_1_kernel: 5\n",
      "middle_n_layers: 3\n",
      "middle_filters_0: 112\n",
      "middle_conv_kernel_0: 5\n",
      "lstm_layers: 5\n",
      "lstm_0_units: 64\n",
      "layer_2_neurons: 160\n",
      "dense_1_units: 112\n",
      "dense_activation: sigmoid\n",
      "learning_rate: 1e-06\n",
      "middle_filters_1: 48\n",
      "middle_conv_kernel_1: 3\n",
      "lstm_1_units: 224\n",
      "middle_filters_2: 112\n",
      "middle_conv_kernel_2: 3\n",
      "middle_filters_3: 64\n",
      "middle_conv_kernel_3: 3\n",
      "middle_filters_4: 32\n",
      "middle_conv_kernel_4: 5\n",
      "middle_filters_5: 96\n",
      "middle_conv_kernel_5: 5\n",
      "middle_filters_6: 48\n",
      "middle_conv_kernel_6: 5\n",
      "lstm_2_units: 224\n",
      "lstm_3_units: 32\n",
      "lstm_4_units: 32\n",
      "lstm_5_units: 512\n",
      "lstm_6_units: 256\n",
      "lstm_7_units: 448\n",
      "lstm_8_units: 416\n",
      "lstm_9_units: 128\n",
      "Score: 0.0644841268658638\n",
      "Trial summary\n",
      "Hyperparameters:\n",
      "conv_1_filter: 80\n",
      "conv_1_kernel: 3\n",
      "middle_n_layers: 3\n",
      "middle_filters_0: 96\n",
      "middle_conv_kernel_0: 5\n",
      "lstm_layers: 3\n",
      "lstm_0_units: 96\n",
      "layer_2_neurons: 128\n",
      "dense_1_units: 128\n",
      "dense_activation: relu\n",
      "learning_rate: 1e-08\n",
      "middle_filters_1: 32\n",
      "middle_conv_kernel_1: 3\n",
      "lstm_1_units: 160\n",
      "middle_filters_2: 32\n",
      "middle_conv_kernel_2: 3\n",
      "middle_filters_3: 112\n",
      "middle_conv_kernel_3: 3\n",
      "middle_filters_4: 64\n",
      "middle_conv_kernel_4: 5\n",
      "middle_filters_5: 80\n",
      "middle_conv_kernel_5: 3\n",
      "middle_filters_6: 48\n",
      "middle_conv_kernel_6: 5\n",
      "lstm_2_units: 480\n",
      "lstm_3_units: 32\n",
      "lstm_4_units: 512\n",
      "lstm_5_units: 288\n",
      "lstm_6_units: 64\n",
      "lstm_7_units: 384\n",
      "lstm_8_units: 512\n",
      "lstm_9_units: 512\n",
      "Score: 0.0575396828353405\n",
      "Trial summary\n",
      "Hyperparameters:\n",
      "conv_1_filter: 80\n",
      "conv_1_kernel: 3\n",
      "middle_n_layers: 3\n",
      "middle_filters_0: 96\n",
      "middle_conv_kernel_0: 3\n",
      "lstm_layers: 9\n",
      "lstm_0_units: 512\n",
      "layer_2_neurons: 352\n",
      "dense_1_units: 48\n",
      "dense_activation: sigmoid\n",
      "learning_rate: 1e-05\n",
      "middle_filters_1: 80\n",
      "middle_conv_kernel_1: 5\n",
      "lstm_1_units: 96\n",
      "middle_filters_2: 128\n",
      "middle_conv_kernel_2: 5\n",
      "middle_filters_3: 96\n",
      "middle_conv_kernel_3: 5\n",
      "middle_filters_4: 128\n",
      "middle_conv_kernel_4: 5\n",
      "middle_filters_5: 112\n",
      "middle_conv_kernel_5: 3\n",
      "middle_filters_6: 112\n",
      "middle_conv_kernel_6: 5\n",
      "lstm_2_units: 480\n",
      "lstm_3_units: 352\n",
      "lstm_4_units: 32\n",
      "lstm_5_units: 384\n",
      "lstm_6_units: 128\n",
      "lstm_7_units: 256\n",
      "lstm_8_units: 64\n",
      "lstm_9_units: 224\n",
      "Score: 0.0545634925365448\n",
      "Trial summary\n",
      "Hyperparameters:\n",
      "conv_1_filter: 128\n",
      "conv_1_kernel: 3\n",
      "middle_n_layers: 7\n",
      "middle_filters_0: 80\n",
      "middle_conv_kernel_0: 3\n",
      "lstm_layers: 10\n",
      "lstm_0_units: 416\n",
      "layer_2_neurons: 224\n",
      "dense_1_units: 64\n",
      "dense_activation: sigmoid\n",
      "learning_rate: 1e-08\n",
      "middle_filters_1: 48\n",
      "middle_conv_kernel_1: 3\n",
      "lstm_1_units: 288\n",
      "middle_filters_2: 80\n",
      "middle_conv_kernel_2: 5\n",
      "middle_filters_3: 128\n",
      "middle_conv_kernel_3: 3\n",
      "middle_filters_4: 112\n",
      "middle_conv_kernel_4: 5\n",
      "middle_filters_5: 80\n",
      "middle_conv_kernel_5: 3\n",
      "middle_filters_6: 48\n",
      "middle_conv_kernel_6: 5\n",
      "lstm_2_units: 160\n",
      "lstm_3_units: 448\n",
      "lstm_4_units: 128\n",
      "lstm_5_units: 128\n",
      "lstm_6_units: 32\n",
      "lstm_7_units: 32\n",
      "lstm_8_units: 32\n",
      "lstm_9_units: 32\n",
      "Score: 0.0446428582072258\n",
      "Trial summary\n",
      "Hyperparameters:\n",
      "conv_1_filter: 128\n",
      "conv_1_kernel: 3\n",
      "middle_n_layers: 7\n",
      "middle_filters_0: 48\n",
      "middle_conv_kernel_0: 3\n",
      "lstm_layers: 9\n",
      "lstm_0_units: 128\n",
      "layer_2_neurons: 416\n",
      "dense_1_units: 112\n",
      "dense_activation: sigmoid\n",
      "learning_rate: 1e-06\n",
      "middle_filters_1: 48\n",
      "middle_conv_kernel_1: 3\n",
      "lstm_1_units: 416\n",
      "middle_filters_2: 80\n",
      "middle_conv_kernel_2: 3\n",
      "middle_filters_3: 96\n",
      "middle_conv_kernel_3: 5\n",
      "middle_filters_4: 64\n",
      "middle_conv_kernel_4: 3\n",
      "middle_filters_5: 128\n",
      "middle_conv_kernel_5: 5\n",
      "middle_filters_6: 96\n",
      "middle_conv_kernel_6: 3\n",
      "lstm_2_units: 32\n",
      "lstm_3_units: 160\n",
      "lstm_4_units: 96\n",
      "lstm_5_units: 96\n",
      "lstm_6_units: 96\n",
      "lstm_7_units: 416\n",
      "lstm_8_units: 160\n",
      "lstm_9_units: 480\n",
      "Score: 0.0446428582072258\n"
     ]
    }
   ],
   "source": [
    "tunerCNNLSTM.results_summary()"
   ]
  },
  {
   "cell_type": "code",
   "execution_count": 22,
   "id": "55cfc09c",
   "metadata": {
    "collapsed": true
   },
   "outputs": [
    {
     "name": "stdout",
     "output_type": "stream",
     "text": [
      "Epoch 1/5\n",
      "45/45 [==============================] - ETA: 0s - loss: 3.0745 - categorical_accuracy: 0.0500WARNING:tensorflow:Model was constructed with shape (16, 2, 15, 1662) for input KerasTensor(type_spec=TensorSpec(shape=(16, 2, 15, 1662), dtype=tf.float32, name='time_distributed_10_input'), name='time_distributed_10_input', description=\"created by layer 'time_distributed_10_input'\"), but it was called on an input with incompatible shape (16, 30, 1662).\n"
     ]
    },
    {
     "ename": "ValueError",
     "evalue": "in user code:\n\n    File \"C:\\Users\\user\\anaconda3\\lib\\site-packages\\keras\\engine\\training.py\", line 1820, in test_function  *\n        return step_function(self, iterator)\n    File \"C:\\Users\\user\\anaconda3\\lib\\site-packages\\keras\\engine\\training.py\", line 1804, in step_function  **\n        outputs = model.distribute_strategy.run(run_step, args=(data,))\n    File \"C:\\Users\\user\\anaconda3\\lib\\site-packages\\keras\\engine\\training.py\", line 1792, in run_step  **\n        outputs = model.test_step(data)\n    File \"C:\\Users\\user\\anaconda3\\lib\\site-packages\\keras\\engine\\training.py\", line 1756, in test_step\n        y_pred = self(x, training=False)\n    File \"C:\\Users\\user\\anaconda3\\lib\\site-packages\\keras\\utils\\traceback_utils.py\", line 70, in error_handler\n        raise e.with_traceback(filtered_tb) from None\n    File \"C:\\Users\\user\\anaconda3\\lib\\site-packages\\keras\\engine\\input_spec.py\", line 232, in assert_input_compatibility\n        raise ValueError(\n\n    ValueError: Exception encountered when calling layer 'sequential_3' (type Sequential).\n    \n    Input 0 of layer \"time_distributed_10\" is incompatible with the layer: expected ndim=4, found ndim=3. Full shape received: (16, 30, 1662)\n    \n    Call arguments received by layer 'sequential_3' (type Sequential):\n      • inputs=tf.Tensor(shape=(16, 30, 1662), dtype=float32)\n      • training=False\n      • mask=None\n",
     "output_type": "error",
     "traceback": [
      "\u001b[1;31m---------------------------------------------------------------------------\u001b[0m",
      "\u001b[1;31mValueError\u001b[0m                                Traceback (most recent call last)",
      "\u001b[1;32m~\\AppData\\Local\\Temp\\ipykernel_2240\\363642956.py\u001b[0m in \u001b[0;36m<module>\u001b[1;34m\u001b[0m\n\u001b[0;32m      3\u001b[0m \u001b[1;33m\u001b[0m\u001b[0m\n\u001b[0;32m      4\u001b[0m \u001b[1;31m#The name of the model should be changed to CLSTMEthSLR\u001b[0m\u001b[1;33m\u001b[0m\u001b[1;33m\u001b[0m\u001b[0m\n\u001b[1;32m----> 5\u001b[1;33m \u001b[0mCNNLSTMEthSLR\u001b[0m \u001b[1;33m=\u001b[0m \u001b[0mmodel\u001b[0m\u001b[1;33m.\u001b[0m\u001b[0mfit\u001b[0m\u001b[1;33m(\u001b[0m\u001b[0mx_train\u001b[0m\u001b[1;33m,\u001b[0m \u001b[0my_train\u001b[0m\u001b[1;33m,\u001b[0m \u001b[0mepochs\u001b[0m \u001b[1;33m=\u001b[0m \u001b[1;36m5\u001b[0m\u001b[1;33m,\u001b[0m \u001b[0mbatch_size\u001b[0m \u001b[1;33m=\u001b[0m \u001b[1;36m16\u001b[0m\u001b[1;33m,\u001b[0m \u001b[0mvalidation_data\u001b[0m \u001b[1;33m=\u001b[0m \u001b[1;33m(\u001b[0m\u001b[0mx_test\u001b[0m\u001b[1;33m,\u001b[0m  \u001b[0my_test\u001b[0m\u001b[1;33m)\u001b[0m\u001b[1;33m)\u001b[0m\u001b[1;33m\u001b[0m\u001b[1;33m\u001b[0m\u001b[0m\n\u001b[0m",
      "\u001b[1;32m~\\anaconda3\\lib\\site-packages\\keras\\utils\\traceback_utils.py\u001b[0m in \u001b[0;36merror_handler\u001b[1;34m(*args, **kwargs)\u001b[0m\n\u001b[0;32m     68\u001b[0m             \u001b[1;31m# To get the full stack trace, call:\u001b[0m\u001b[1;33m\u001b[0m\u001b[1;33m\u001b[0m\u001b[0m\n\u001b[0;32m     69\u001b[0m             \u001b[1;31m# `tf.debugging.disable_traceback_filtering()`\u001b[0m\u001b[1;33m\u001b[0m\u001b[1;33m\u001b[0m\u001b[0m\n\u001b[1;32m---> 70\u001b[1;33m             \u001b[1;32mraise\u001b[0m \u001b[0me\u001b[0m\u001b[1;33m.\u001b[0m\u001b[0mwith_traceback\u001b[0m\u001b[1;33m(\u001b[0m\u001b[0mfiltered_tb\u001b[0m\u001b[1;33m)\u001b[0m \u001b[1;32mfrom\u001b[0m \u001b[1;32mNone\u001b[0m\u001b[1;33m\u001b[0m\u001b[1;33m\u001b[0m\u001b[0m\n\u001b[0m\u001b[0;32m     71\u001b[0m         \u001b[1;32mfinally\u001b[0m\u001b[1;33m:\u001b[0m\u001b[1;33m\u001b[0m\u001b[1;33m\u001b[0m\u001b[0m\n\u001b[0;32m     72\u001b[0m             \u001b[1;32mdel\u001b[0m \u001b[0mfiltered_tb\u001b[0m\u001b[1;33m\u001b[0m\u001b[1;33m\u001b[0m\u001b[0m\n",
      "\u001b[1;32m~\\anaconda3\\lib\\site-packages\\keras\\engine\\training.py\u001b[0m in \u001b[0;36mtf__test_function\u001b[1;34m(iterator)\u001b[0m\n\u001b[0;32m     13\u001b[0m                 \u001b[1;32mtry\u001b[0m\u001b[1;33m:\u001b[0m\u001b[1;33m\u001b[0m\u001b[1;33m\u001b[0m\u001b[0m\n\u001b[0;32m     14\u001b[0m                     \u001b[0mdo_return\u001b[0m \u001b[1;33m=\u001b[0m \u001b[1;32mTrue\u001b[0m\u001b[1;33m\u001b[0m\u001b[1;33m\u001b[0m\u001b[0m\n\u001b[1;32m---> 15\u001b[1;33m                     \u001b[0mretval_\u001b[0m \u001b[1;33m=\u001b[0m \u001b[0mag__\u001b[0m\u001b[1;33m.\u001b[0m\u001b[0mconverted_call\u001b[0m\u001b[1;33m(\u001b[0m\u001b[0mag__\u001b[0m\u001b[1;33m.\u001b[0m\u001b[0mld\u001b[0m\u001b[1;33m(\u001b[0m\u001b[0mstep_function\u001b[0m\u001b[1;33m)\u001b[0m\u001b[1;33m,\u001b[0m \u001b[1;33m(\u001b[0m\u001b[0mag__\u001b[0m\u001b[1;33m.\u001b[0m\u001b[0mld\u001b[0m\u001b[1;33m(\u001b[0m\u001b[0mself\u001b[0m\u001b[1;33m)\u001b[0m\u001b[1;33m,\u001b[0m \u001b[0mag__\u001b[0m\u001b[1;33m.\u001b[0m\u001b[0mld\u001b[0m\u001b[1;33m(\u001b[0m\u001b[0miterator\u001b[0m\u001b[1;33m)\u001b[0m\u001b[1;33m)\u001b[0m\u001b[1;33m,\u001b[0m \u001b[1;32mNone\u001b[0m\u001b[1;33m,\u001b[0m \u001b[0mfscope\u001b[0m\u001b[1;33m)\u001b[0m\u001b[1;33m\u001b[0m\u001b[1;33m\u001b[0m\u001b[0m\n\u001b[0m\u001b[0;32m     16\u001b[0m                 \u001b[1;32mexcept\u001b[0m\u001b[1;33m:\u001b[0m\u001b[1;33m\u001b[0m\u001b[1;33m\u001b[0m\u001b[0m\n\u001b[0;32m     17\u001b[0m                     \u001b[0mdo_return\u001b[0m \u001b[1;33m=\u001b[0m \u001b[1;32mFalse\u001b[0m\u001b[1;33m\u001b[0m\u001b[1;33m\u001b[0m\u001b[0m\n",
      "\u001b[1;31mValueError\u001b[0m: in user code:\n\n    File \"C:\\Users\\user\\anaconda3\\lib\\site-packages\\keras\\engine\\training.py\", line 1820, in test_function  *\n        return step_function(self, iterator)\n    File \"C:\\Users\\user\\anaconda3\\lib\\site-packages\\keras\\engine\\training.py\", line 1804, in step_function  **\n        outputs = model.distribute_strategy.run(run_step, args=(data,))\n    File \"C:\\Users\\user\\anaconda3\\lib\\site-packages\\keras\\engine\\training.py\", line 1792, in run_step  **\n        outputs = model.test_step(data)\n    File \"C:\\Users\\user\\anaconda3\\lib\\site-packages\\keras\\engine\\training.py\", line 1756, in test_step\n        y_pred = self(x, training=False)\n    File \"C:\\Users\\user\\anaconda3\\lib\\site-packages\\keras\\utils\\traceback_utils.py\", line 70, in error_handler\n        raise e.with_traceback(filtered_tb) from None\n    File \"C:\\Users\\user\\anaconda3\\lib\\site-packages\\keras\\engine\\input_spec.py\", line 232, in assert_input_compatibility\n        raise ValueError(\n\n    ValueError: Exception encountered when calling layer 'sequential_3' (type Sequential).\n    \n    Input 0 of layer \"time_distributed_10\" is incompatible with the layer: expected ndim=4, found ndim=3. Full shape received: (16, 30, 1662)\n    \n    Call arguments received by layer 'sequential_3' (type Sequential):\n      • inputs=tf.Tensor(shape=(16, 30, 1662), dtype=float32)\n      • training=False\n      • mask=None\n"
     ]
    }
   ],
   "source": [
    "#tunerCNNLSTM should be changed while doing for ConvLSTM\n",
    "model = tunerCNNLSTM.hypermodel.build(best_hps)\n",
    "\n",
    "#The name of the model should be changed to CLSTMEthSLR\n",
    "CNNLSTMEthSLR = model.fit(x_train, y_train, epochs = 5, batch_size = 16, validation_data = (x_test,  y_test)) "
   ]
  },
  {
   "cell_type": "code",
   "execution_count": 23,
   "id": "51f69e54",
   "metadata": {},
   "outputs": [
    {
     "name": "stdout",
     "output_type": "stream",
     "text": [
      "Model: \"sequential_3\"\n",
      "_________________________________________________________________\n",
      " Layer (type)                Output Shape              Param #   \n",
      "=================================================================\n",
      " time_distributed_10 (TimeDi  (16, 2, 15, 48)          239376    \n",
      " stributed)                                                      \n",
      "                                                                 \n",
      " time_distributed_11 (TimeDi  (16, 2, 15, 48)          192       \n",
      " stributed)                                                      \n",
      "                                                                 \n",
      " time_distributed_12 (TimeDi  (16, 2, 15, 80)          11600     \n",
      " stributed)                                                      \n",
      "                                                                 \n",
      " time_distributed_13 (TimeDi  (16, 2, 15, 80)          320       \n",
      " stributed)                                                      \n",
      "                                                                 \n",
      " time_distributed_14 (TimeDi  (16, 2, 1200)            0         \n",
      " stributed)                                                      \n",
      "                                                                 \n",
      " lstm_4 (LSTM)               (16, 2, 288)              1715328   \n",
      "                                                                 \n",
      " lstm_5 (LSTM)               (16, 2, 512)              1640448   \n",
      "                                                                 \n",
      " lstm_6 (LSTM)               (16, 224)                 660352    \n",
      "                                                                 \n",
      " dense_4 (Dense)             (16, 96)                  21600     \n",
      "                                                                 \n",
      " dense_5 (Dense)             (16, 20)                  1940      \n",
      "                                                                 \n",
      "=================================================================\n",
      "Total params: 4,291,156\n",
      "Trainable params: 4,290,900\n",
      "Non-trainable params: 256\n",
      "_________________________________________________________________\n"
     ]
    }
   ],
   "source": [
    "model.summary()"
   ]
  },
  {
   "cell_type": "code",
   "execution_count": null,
   "id": "1137a26f",
   "metadata": {},
   "outputs": [],
   "source": [
    "import pandas as pd \n",
    "pd.DataFrame(CNNLSTMEthSLR.history)"
   ]
  },
  {
   "cell_type": "code",
   "execution_count": 25,
   "id": "3fb83d51",
   "metadata": {},
   "outputs": [
    {
     "data": {
      "text/plain": [
       "<function matplotlib.pyplot.show(close=None, block=None)>"
      ]
     },
     "execution_count": 25,
     "metadata": {},
     "output_type": "execute_result"
    },
    {
     "data": {
      "image/png": "[encoded data removed]",
      "text/plain": [
       "<Figure size 640x480 with 1 Axes>"
      ]
     },
     "metadata": {},
     "output_type": "display_data"
    }
   ],
   "source": [
    "acc = CNNLSTMEthSLR.history['categorical_accuracy']\n",
    "acc_val = CNNLSTMEthSLR.history['val_categorical_accuracy']\n",
    "epochs = range(1, len(acc) + 1)\n",
    "plt.plot(epochs, acc, 'g', label='Training accuracy')\n",
    "plt.plot(epochs, acc_val, 'bo', label='Validation accuracy')\n",
    "plt.title('Training and Validation accuracy')\n",
    "plt.xlabel('Epochs')\n",
    "plt.ylabel('Accuracy')\n",
    "plt.legend()\n",
    "plt.show"
   ]
  },
  {
   "cell_type": "code",
   "execution_count": 19,
   "id": "b1426b0d",
   "metadata": {},
   "outputs": [
    {
     "data": {
      "text/plain": [
       "<function matplotlib.pyplot.show(close=None, block=None)>"
      ]
     },
     "execution_count": 19,
     "metadata": {},
     "output_type": "execute_result"
    },
    {
     "data": {
      "image/png": "[encoded data removed]",
      "text/plain": [
       "<Figure size 640x480 with 1 Axes>"
      ]
     },
     "metadata": {},
     "output_type": "display_data"
    }
   ],
   "source": [
    "loss1 = CNNLSTMEthSLR.history['loss']\n",
    "val_loss1 = CNNLSTMEthSLR.history['val_loss']\n",
    "epochs = range(1, len(acc) + 1)\n",
    "plt.plot(epochs, loss1, 'g', label='Loss')\n",
    "plt.plot(epochs, val_loss1, 'bo', label='Validation_Loss')\n",
    "plt.title('Loss and Validation_Loss')\n",
    "plt.xlabel('Epochs')\n",
    "plt.ylabel('Loss')\n",
    "plt.legend()\n",
    "plt.show"
   ]
  },
  {
   "cell_type": "code",
   "execution_count": 88,
   "id": "c531e530",
   "metadata": {},
   "outputs": [
    {
     "name": "stdout",
     "output_type": "stream",
     "text": [
      "18/18 [==============================] - 21s 260ms/step\n"
     ]
    }
   ],
   "source": [
    "from sklearn import metrics\n",
    "yhat = model.predict(x_val)"
   ]
  },
  {
   "cell_type": "code",
   "execution_count": 89,
   "id": "3591e7e3",
   "metadata": {},
   "outputs": [],
   "source": [
    "ytrue = np.argmax(y_val, axis=1).tolist()\n",
    "yhat = np.argmax(yhat, axis=1).tolist()"
   ]
  },
  {
   "cell_type": "code",
   "execution_count": 42,
   "id": "c13cb6c4",
   "metadata": {},
   "outputs": [],
   "source": [
    "from sklearn.metrics import multilabel_confusion_matrix, accuracy_score, precision_score, recall_score, f1_score"
   ]
  },
  {
   "cell_type": "code",
   "execution_count": 43,
   "id": "e6bbdcb3",
   "metadata": {
    "collapsed": true
   },
   "outputs": [
    {
     "data": {
      "text/plain": [
       "array([[[523,   5],\n",
       "        [ 27,   5]],\n",
       "\n",
       "       [[502,  27],\n",
       "        [ 31,   0]],\n",
       "\n",
       "       [[486,  45],\n",
       "        [  3,  26]],\n",
       "\n",
       "       [[518,  12],\n",
       "        [ 28,   2]],\n",
       "\n",
       "       [[397, 141],\n",
       "        [  1,  21]],\n",
       "\n",
       "       [[530,   1],\n",
       "        [ 29,   0]],\n",
       "\n",
       "       [[529,   0],\n",
       "        [ 31,   0]],\n",
       "\n",
       "       [[528,   7],\n",
       "        [ 25,   0]],\n",
       "\n",
       "       [[504,  32],\n",
       "        [ 22,   2]],\n",
       "\n",
       "       [[534,   2],\n",
       "        [ 16,   8]],\n",
       "\n",
       "       [[530,   1],\n",
       "        [ 26,   3]],\n",
       "\n",
       "       [[529,   1],\n",
       "        [ 30,   0]],\n",
       "\n",
       "       [[534,   0],\n",
       "        [ 26,   0]],\n",
       "\n",
       "       [[467,  67],\n",
       "        [ 14,  12]],\n",
       "\n",
       "       [[525,   7],\n",
       "        [ 25,   3]],\n",
       "\n",
       "       [[523,   6],\n",
       "        [ 20,  11]],\n",
       "\n",
       "       [[480,  52],\n",
       "        [ 15,  13]],\n",
       "\n",
       "       [[519,  15],\n",
       "        [ 25,   1]],\n",
       "\n",
       "       [[533,   1],\n",
       "        [ 12,  14]],\n",
       "\n",
       "       [[510,  17],\n",
       "        [ 33,   0]]], dtype=int64)"
      ]
     },
     "execution_count": 43,
     "metadata": {},
     "output_type": "execute_result"
    }
   ],
   "source": [
    "multilabel_confusion_matrix(ytrue, yhat)"
   ]
  },
  {
   "cell_type": "code",
   "execution_count": 90,
   "id": "d37399bb",
   "metadata": {},
   "outputs": [
    {
     "name": "stdout",
     "output_type": "stream",
     "text": [
      "              precision    recall  f1-score   support\n",
      "\n",
      "         ሀዘን       1.00      0.59      0.74        29\n",
      "         ህመም       1.00      0.91      0.95        22\n",
      "         ለምን       0.74      0.88      0.81        26\n",
      "        ልምምድ       1.00      0.18      0.31        38\n",
      "         መራራ       0.71      0.74      0.72        23\n",
      "        መናደድ       0.88      0.70      0.78        30\n",
      "        መጀመር       0.71      0.43      0.53        28\n",
      "        መገረም       1.00      0.57      0.72        37\n",
      "         መጥፎ       0.47      0.90      0.61        30\n",
      "        መጨረስ       0.75      0.75      0.75        32\n",
      "        መጨነቅ       0.32      1.00      0.48        29\n",
      "        ማሸነፍ       1.00      0.79      0.89        34\n",
      "        ምስጋና       0.63      0.68      0.66        28\n",
      "         ቀላል       0.45      0.92      0.60        24\n",
      "         ተነስ       0.75      0.78      0.76        27\n",
      "       አስቸጋሪ       1.00      0.47      0.64        32\n",
      "         እህት       0.78      0.27      0.40        26\n",
      "        ወንድም       1.00      0.45      0.62        31\n",
      "        ይቅርታ       0.52      0.96      0.68        23\n",
      "         ጎበዝ       0.90      0.67      0.77        27\n",
      "\n",
      "    accuracy                           0.66       576\n",
      "   macro avg       0.78      0.68      0.67       576\n",
      "weighted avg       0.79      0.66      0.67       576\n",
      "\n"
     ]
    }
   ],
   "source": [
    "from sklearn.metrics import classification_report\n",
    "\n",
    "label_names = ['ሀዘን','ህመም','ለምን', 'ልምምድ', 'መራራ', 'መናደድ', 'መጀመር', 'መገረም', \n",
    "                    'መጥፎ', 'መጨረስ', 'መጨነቅ', 'ማሸነፍ', 'ምስጋና', 'ቀላል', 'ተነስ', 'አስቸጋሪ', \n",
    "                    'እህት', 'ወንድም', 'ይቅርታ', 'ጎበዝ']\n",
    "\n",
    "#print(classification_report(ytrue, yhat,target_names=label_names))\n",
    "print(classification_report(ytrue, yhat, target_names=label_names, zero_division=0))"
   ]
  },
  {
   "cell_type": "code",
   "execution_count": 1,
   "id": "7dd25061",
   "metadata": {},
   "outputs": [],
   "source": [
    "from tensorflow.keras.models import save_model\n",
    "from pickle import dump,load"
   ]
  },
  {
   "cell_type": "code",
   "execution_count": 44,
   "id": "88ce9178",
   "metadata": {},
   "outputs": [],
   "source": [
    "#save the model with different names\n",
    "save_model(model,'CNNvLSTM2nd_Round.h5')"
   ]
  },
  {
   "cell_type": "code",
   "execution_count": 45,
   "id": "db2ebd48",
   "metadata": {
    "collapsed": true
   },
   "outputs": [
    {
     "ename": "NameError",
     "evalue": "name 'mp_holistic' is not defined",
     "output_type": "error",
     "traceback": [
      "\u001b[1;31m---------------------------------------------------------------------------\u001b[0m",
      "\u001b[1;31mNameError\u001b[0m                                 Traceback (most recent call last)",
      "\u001b[1;32m~\\AppData\\Local\\Temp\\ipykernel_972\\2006044050.py\u001b[0m in \u001b[0;36m<module>\u001b[1;34m\u001b[0m\n\u001b[0;32m      7\u001b[0m \u001b[1;33m\u001b[0m\u001b[0m\n\u001b[0;32m      8\u001b[0m \u001b[1;31m#set mediapipe model detection and tracking confidence\u001b[0m\u001b[1;33m\u001b[0m\u001b[1;33m\u001b[0m\u001b[0m\n\u001b[1;32m----> 9\u001b[1;33m \u001b[1;32mwith\u001b[0m \u001b[0mmp_holistic\u001b[0m\u001b[1;33m.\u001b[0m\u001b[0mHolistic\u001b[0m\u001b[1;33m(\u001b[0m\u001b[0mmin_detection_confidence\u001b[0m\u001b[1;33m=\u001b[0m\u001b[1;36m0.5\u001b[0m\u001b[1;33m,\u001b[0m \u001b[0mmin_tracking_confidence\u001b[0m\u001b[1;33m=\u001b[0m\u001b[1;36m0.5\u001b[0m\u001b[1;33m)\u001b[0m \u001b[1;32mas\u001b[0m \u001b[0mholistic\u001b[0m\u001b[1;33m:\u001b[0m\u001b[1;33m\u001b[0m\u001b[1;33m\u001b[0m\u001b[0m\n\u001b[0m\u001b[0;32m     10\u001b[0m \u001b[1;33m\u001b[0m\u001b[0m\n\u001b[0;32m     11\u001b[0m     \u001b[1;31m# Create loop to collect the words\u001b[0m\u001b[1;33m\u001b[0m\u001b[1;33m\u001b[0m\u001b[0m\n",
      "\u001b[1;31mNameError\u001b[0m: name 'mp_holistic' is not defined"
     ]
    }
   ],
   "source": [
    "sequence = [] # capture frames\n",
    "sentence = [] # to concatenate inputs\n",
    "prediction = []\n",
    "threshold = 0.5\n",
    "\n",
    "cap = cv2.VideoCapture(1)\n",
    "\n",
    "#set mediapipe model detection and tracking confidence\n",
    "with mp_holistic.Holistic(min_detection_confidence=0.5, min_tracking_confidence=0.5) as holistic: \n",
    "    \n",
    "    # Create loop to collect the words\n",
    "    for action in actions:\n",
    "        \n",
    "        # Create loop to collect videos for each word\n",
    "        for sequence in range(no_sequences):\n",
    "            \n",
    "            # Collect specified number of frames for each video\n",
    "            for frame_num in range(sequence_length):\n",
    "                \n",
    "        \n",
    "                # read inputs from signers\n",
    "                ret, frame = cap.read()\n",
    "\n",
    "                image, results = mediapipe_detection(frame, holistic)\n",
    "                #print(results)\n",
    "\n",
    "                #Draw landmarks\n",
    "                draw_styled_landmarks(image, results)\n",
    "                \n",
    "                # start collecting input videos until specified number is reached\n",
    "                # 2 second is given a break to prepare for the next signing\n",
    "                if frame_num == 0:\n",
    "                    cv2.putText(image, 'Starting Collection ...', (120, 200), \n",
    "                                cv2.FONT_HERSHEY_SIMPLEX, 1, (0, 255, 0), 4, cv2.LINE_AA)\n",
    "                    cv2.putText(image, 'Collecting frames for {} Video Number {}'. format(action, sequence), (15, 12),\n",
    "                               cv2.FONT_HERSHEY_SIMPLEX, 0.5, (0, 0, 255), 1, cv2.LINE_AA)\n",
    "                    cv2.waitKey(2000)\n",
    "                else:\n",
    "                    cv2.putText(image, 'Collecting frames for {} Video Number {}'. format(action, sequence), (15, 12),\n",
    "                               cv2.FONT_HERSHEY_SIMPLEX, 0.5, (0, 0, 255), 1, cv2.LINE_AA)\n",
    "                \n",
    "                # Extracting and saving keypoints to their respective folders as numpy arrays\n",
    "                keypoints = extract_keypoints(results)\n",
    "                npy_path = os.path.join(DATA_PATH, action, str(sequence), str(frame_num))\n",
    "                np.save(npy_path, keypoints)\n",
    "\n",
    "                # Prediction logic\n",
    "                keypoints = extract_keypoints(results)\n",
    "                sequence.append(keypoints)\n",
    "                sequence = sequence[-30:]\n",
    "                \n",
    "                if len(sequence) == 30:\n",
    "                    res = model.predict(np.expand_dims(sequence, axis=0))[0]\n",
    "                    print(actions[np.argmax(res)])\n",
    "                    predictions.append(np.argmax(res))\n",
    "                \n",
    "                # show real time prediction\n",
    "                if np.unique(predictions[-10:])[0] == np.argmax(res):\n",
    "                    if res[np.argmax(res)] > threshold: \n",
    "\n",
    "                        if len(sentence) > 0:\n",
    "                            \n",
    "                            if actions[np.argmax(res)] != sentence[-1]:\n",
    "                                sentence.append(actions[np.argmax(res)])\n",
    "                        else:\n",
    "                            sentence.append(actions[np.argmax(res)])\n",
    "                \n",
    "                if len(sentence) > 5:\n",
    "                    sentence = sentence[-5:]\n",
    "                    \n",
    "                cv2.rectange(image, (0, 0), (640, 40), (245, 117, 16), -1)\n",
    "                cv2.putText(image, ' '.join(sentence), (3, 30),\n",
    "                           cv2.FONT_HERSHEY_SIMPLEX, 1, (255, 255, 255), 2, cv2.LINE_AA)\n",
    "                        \n",
    "                \n",
    "                \n",
    "                cv2.imshow('Interface', image)\n",
    "                \n",
    "                if cv2.waitKey(10) & 0xFF == ord('q'):\n",
    "                    break\n",
    "    cap.release()\n",
    "    cv2.destroyAllWindows()"
   ]
  },
  {
   "cell_type": "code",
   "execution_count": null,
   "id": "9c843ec5",
   "metadata": {},
   "outputs": [],
   "source": []
  }
 ],
 "metadata": {
  "kernelspec": {
   "display_name": "Python 3 (ipykernel)",
   "language": "python",
   "name": "python3"
  },
  "language_info": {
   "codemirror_mode": {
    "name": "ipython",
    "version": 3
   },
   "file_extension": ".py",
   "mimetype": "text/x-python",
   "name": "python",
   "nbconvert_exporter": "python",
   "pygments_lexer": "ipython3",
   "version": "3.9.13"
  }
 },
 "nbformat": 4,
 "nbformat_minor": 5
}
