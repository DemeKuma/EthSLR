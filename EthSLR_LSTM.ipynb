{
 "cells": [
  {
   "cell_type": "code",
   "execution_count": 1,
   "id": "3fde40df",
   "metadata": {},
   "outputs": [],
   "source": [
    "import cv2\n",
    "import numpy as np\n",
    "import os\n",
    "from matplotlib import pyplot as plt\n",
    "import time\n",
    "import mediapipe as mp\n",
    "import tensorflow as tf"
   ]
  },
  {
   "cell_type": "code",
   "execution_count": 2,
   "id": "a46f7543",
   "metadata": {},
   "outputs": [],
   "source": [
    "from tensorflow.keras.models import Sequential # is used to build a sequential NN\n",
    "from tensorflow.keras.layers import LSTM, Dense, Dropout, Flatten, BatchNormalization, ConvLSTM2D\n",
    "from tensorflow.keras.layers import Conv1D, TimeDistributed\n",
    "from tensorflow.keras.callbacks import TensorBoard\n",
    "from tensorflow.keras.optimizers import Adam"
   ]
  },
  {
   "cell_type": "code",
   "execution_count": 3,
   "id": "a52885d7",
   "metadata": {},
   "outputs": [],
   "source": [
    "from sklearn.model_selection import train_test_split # to automatically split the dataset into trining and testing sets\n",
    "from tensorflow.keras.utils import to_categorical # to convert data to one hot encoded data"
   ]
  },
  {
   "cell_type": "code",
   "execution_count": 1,
   "id": "a070c7e3",
   "metadata": {},
   "outputs": [],
   "source": [
    "from tensorflow import keras\n",
    "from tensorflow.keras import layers\n",
    "import keras_tuner as kt \n",
    "from keras_tuner.tuners import BayesianOptimization\n",
    "from keras_tuner.engine.hyperparameters import HyperParameters"
   ]
  },
  {
   "cell_type": "markdown",
   "id": "4717798a",
   "metadata": {},
   "source": [
    "#Data for Signer Dependent mode "
   ]
  },
  {
   "cell_type": "code",
   "execution_count": 5,
   "id": "d42c6df2",
   "metadata": {},
   "outputs": [],
   "source": [
    "#path for exported data, numpy arrays\n",
    "DATA_PATH = os.path.join('EthSL_Dataset')\n",
    "actions = np.array(['ሀዘን','ህመም','ለምን', 'ልምምድ', 'መራራ', 'መናደድ', 'መጀመር', 'መገረም', \n",
    "                    'መጥፎ', 'መጨረስ', 'መጨነቅ', 'ማሸነፍ', 'ምስጋና', 'ቀላል', 'ተነስ', 'አስቸጋሪ', \n",
    "                    'እህት', 'ወንድም', 'ይቅርታ', 'ጎበዝ'])\n",
    "\n",
    "no_sequences = 280 #number of videos to be captured is set to 40\n",
    "sequence_length = 30 #number of frames in each video is set to 30"
   ]
  },
  {
   "cell_type": "code",
   "execution_count": 6,
   "id": "b68b1e78",
   "metadata": {},
   "outputs": [],
   "source": [
    "label_map = {label:num for num, label in enumerate(actions)}"
   ]
  },
  {
   "cell_type": "code",
   "execution_count": 7,
   "id": "9d1d5a54",
   "metadata": {},
   "outputs": [],
   "source": [
    "# build big array which contains all data\n",
    "sequences, labels = [], [] # feature and label data respectively\n",
    "for action in actions:\n",
    "    for sequence in range(no_sequences):\n",
    "        window = [] # represents all frames in a specific video\n",
    "        for frame_num in range(sequence_length):\n",
    "            res = np.load(os.path.join(DATA_PATH, action, str(sequence), \"{}.npy\".format(frame_num)))\n",
    "            window.append(res)\n",
    "        sequences.append(window) # all data for each word is appended and a single numpy array is created\n",
    "        labels.append(label_map[action])"
   ]
  },
  {
   "cell_type": "code",
   "execution_count": 8,
   "id": "3e9360ea",
   "metadata": {},
   "outputs": [],
   "source": [
    "x = np.array(sequences)"
   ]
  },
  {
   "cell_type": "code",
   "execution_count": 9,
   "id": "2de6f64d",
   "metadata": {},
   "outputs": [],
   "source": [
    "y = to_categorical(labels).astype(int)"
   ]
  },
  {
   "cell_type": "code",
   "execution_count": 29,
   "id": "2bd8c94e",
   "metadata": {},
   "outputs": [],
   "source": [
    "x_train, x_test, y_train, y_test = train_test_split(x, y, test_size=0.15)"
   ]
  },
  {
   "cell_type": "code",
   "execution_count": 11,
   "id": "59bd931f",
   "metadata": {},
   "outputs": [
    {
     "data": {
      "text/plain": [
       "((5040, 30, 1662), (560, 30, 1662), (5040, 20), (560, 20))"
      ]
     },
     "execution_count": 11,
     "metadata": {},
     "output_type": "execute_result"
    }
   ],
   "source": [
    "x_train.shape, x_test.shape, y_train.shape, y_test.shape"
   ]
  },
  {
   "cell_type": "markdown",
   "id": "b5e2baa1",
   "metadata": {},
   "source": [
    "#Data for Signer Independent mode"
   ]
  },
  {
   "cell_type": "markdown",
   "id": "bbfcbaf1",
   "metadata": {},
   "source": [
    "#Load training data"
   ]
  },
  {
   "cell_type": "code",
   "execution_count": 5,
   "id": "289732fe",
   "metadata": {},
   "outputs": [],
   "source": [
    "#path for exported data, numpy arrays to load training data\n",
    "DATA_PATH_train = os.path.join('EthSL_Train2')\n",
    "actions_train = np.array(['ሀዘን','ህመም','ለምን', 'ልምምድ', 'መራራ', 'መናደድ', 'መጀመር', 'መገረም', \n",
    "                    'መጥፎ', 'መጨረስ', 'መጨነቅ', 'ማሸነፍ', 'ምስጋና', 'ቀላል', 'ተነስ', 'አስቸጋሪ', \n",
    "                    'እህት', 'ወንድም', 'ይቅርታ', 'ጎበዝ'])\n",
    "\n",
    "no_sequences_train = 200 #number of videos to be captured is set to 200\n",
    "sequence_length_train = 30 #number of frames in each video is set to 30"
   ]
  },
  {
   "cell_type": "code",
   "execution_count": 7,
   "id": "52881ce2",
   "metadata": {},
   "outputs": [],
   "source": [
    "label_map_train = {label:num for num, label in enumerate(actions_train)}"
   ]
  },
  {
   "cell_type": "code",
   "execution_count": 8,
   "id": "84dc9f87",
   "metadata": {},
   "outputs": [],
   "source": [
    "# build big array which contains all training data\n",
    "sequences_train, labels_train = [], [] # feature and label data respectively\n",
    "for action_train in actions_train:\n",
    "    for sequence_train in range(no_sequences_train):\n",
    "        window_train = [] # represents all frames in a specific video\n",
    "        for frame_num_train in range(sequence_length_train):\n",
    "            res_train = np.load(os.path.join(DATA_PATH_train, action_train, str(sequence_train), \"{}.npy\".format(frame_num_train)))\n",
    "            window_train.append(res_train)\n",
    "        sequences_train.append(window_train) # all data for each word is appended and a single numpy array is created\n",
    "        labels_train.append(label_map_train[action_train])"
   ]
  },
  {
   "cell_type": "code",
   "execution_count": 9,
   "id": "c777dcd7",
   "metadata": {},
   "outputs": [],
   "source": [
    "x_training = np.array(sequences_train)"
   ]
  },
  {
   "cell_type": "code",
   "execution_count": 10,
   "id": "f1e05a7a",
   "metadata": {},
   "outputs": [],
   "source": [
    "y_training = to_categorical(labels_train).astype(int)"
   ]
  },
  {
   "cell_type": "code",
   "execution_count": 47,
   "id": "83d751ac",
   "metadata": {},
   "outputs": [],
   "source": [
    "x_train, x_val, y_train, y_val = train_test_split(x_training, y_training, test_size=0.05)"
   ]
  },
  {
   "cell_type": "code",
   "execution_count": 48,
   "id": "0a9e733e",
   "metadata": {},
   "outputs": [
    {
     "data": {
      "text/plain": [
       "((3800, 30, 1662), (200, 30, 1662), (3800, 20), (200, 20))"
      ]
     },
     "execution_count": 48,
     "metadata": {},
     "output_type": "execute_result"
    }
   ],
   "source": [
    "x_train.shape, x_val.shape, y_train.shape, y_val.shape"
   ]
  },
  {
   "cell_type": "markdown",
   "id": "588e9c47",
   "metadata": {},
   "source": [
    "#Load test data"
   ]
  },
  {
   "cell_type": "code",
   "execution_count": 13,
   "id": "adabce6d",
   "metadata": {},
   "outputs": [],
   "source": [
    "#path for exported data, numpy arrays to load test data\n",
    "DATA_PATH_test = os.path.join('EthSL_Test')\n",
    "actions_test = np.array(['ሀዘን','ህመም','ለምን', 'ልምምድ', 'መራራ', 'መናደድ', 'መጀመር', 'መገረም', \n",
    "                    'መጥፎ', 'መጨረስ', 'መጨነቅ', 'ማሸነፍ', 'ምስጋና', 'ቀላል', 'ተነስ', 'አስቸጋሪ', \n",
    "                    'እህት', 'ወንድም', 'ይቅርታ', 'ጎበዝ'])\n",
    "\n",
    "no_sequences_test = 80 #number of videos to be captured is set to 40\n",
    "sequence_length_test = 30 #number of frames in each video is set to 30"
   ]
  },
  {
   "cell_type": "code",
   "execution_count": 14,
   "id": "40a56e84",
   "metadata": {},
   "outputs": [],
   "source": [
    "label_map_test = {label:num for num, label in enumerate(actions_test)}"
   ]
  },
  {
   "cell_type": "code",
   "execution_count": 15,
   "id": "ce79ef73",
   "metadata": {},
   "outputs": [],
   "source": [
    "# build big array which contains all testing data\n",
    "sequences_test, labels_test = [], [] # feature and label data respectively\n",
    "for action_test in actions_test:\n",
    "    for sequence_test in range(no_sequences_test):\n",
    "        window_test = [] # represents all frames in a specific video\n",
    "        for frame_num_test in range(sequence_length_test):\n",
    "            res_test = np.load(os.path.join(DATA_PATH_test, action_test, str(sequence_test), \"{}.npy\".format(frame_num_test)))\n",
    "            window_test.append(res_test)\n",
    "        sequences_test.append(window_test) # all data for each word is appended and a single numpy array is created\n",
    "        labels_test.append(label_map_test[action_test])"
   ]
  },
  {
   "cell_type": "code",
   "execution_count": 16,
   "id": "8063d03d",
   "metadata": {},
   "outputs": [],
   "source": [
    "x_testing = np.array(sequences_test)"
   ]
  },
  {
   "cell_type": "code",
   "execution_count": 17,
   "id": "d8778fe7",
   "metadata": {},
   "outputs": [],
   "source": [
    "y_testing = to_categorical(labels_test).astype(int)"
   ]
  },
  {
   "cell_type": "code",
   "execution_count": 49,
   "id": "70f4b02d",
   "metadata": {},
   "outputs": [],
   "source": [
    "#To split some of the data and take the larger portion for testing\n",
    "x_trainT, x_test, y_trainT, y_test = train_test_split(x_testing, y_testing, test_size=0.5)"
   ]
  },
  {
   "cell_type": "code",
   "execution_count": 50,
   "id": "c90f2220",
   "metadata": {},
   "outputs": [
    {
     "data": {
      "text/plain": [
       "((800, 30, 1662), (800, 30, 1662), (800, 20), (800, 20))"
      ]
     },
     "execution_count": 50,
     "metadata": {},
     "output_type": "execute_result"
    }
   ],
   "source": [
    "x_trainT.shape, x_test.shape, y_trainT.shape, y_test.shape"
   ]
  },
  {
   "cell_type": "code",
   "execution_count": 2,
   "id": "b6d4def2",
   "metadata": {},
   "outputs": [],
   "source": [
    "#A  model for LSTM\n",
    "def build_model(hp):\n",
    "    model = Sequential()\n",
    "    model.add(LSTM(hp.Int('first_lstm_units', min_value=32, max_value=512, step=32), \n",
    "                   return_sequences = True, input_shape=(30,1662)))\n",
    "    \n",
    "    for i in range(hp.Int('n_lstm_layers', 1, 8)):\n",
    "        model.add(LSTM(hp.Int(f'lstm_{i}_units',min_value=32,max_value=512,step=32), \n",
    "                       recurrent_activation='hard_sigmoid', return_sequences=True))\n",
    "        \n",
    "    model.add(Dropout(hp.Float('Dropout_rate1',min_value=0,max_value=0.5,step=0.1)))\n",
    "    model.add(LSTM(hp.Int('last_layer_neurons',min_value=32,max_value=512,step=32), \n",
    "                   recurrent_activation='hard_sigmoid'))\n",
    "    \n",
    "    #model.add(Dropout(hp.Float('Dropout_rate',min_value=0,max_value=0.5,step=0.1)))\n",
    "    \n",
    "    model.add(Dense(units=hp.Int('dense_1_units', min_value=32, max_value=128, step=16),\n",
    "                    activation='relu'))  \n",
    "    #model.add(Dropout(hp.Float('Dropout_rate2',min_value=0,max_value=0.5,step=0.1)))\n",
    "    model.add(Dense(20, activation='softmax'))\n",
    "    \n",
    "    #compilation of model\n",
    "    model.compile(optimizer=keras.optimizers.Adam(hp.Choice('learning_rate', values=[1e-3, 1e-4, 1e-5, 1e-6])),\n",
    "              loss='categorical_crossentropy',\n",
    "              metrics=['categorical_accuracy'])\n",
    "    return model"
   ]
  },
  {
   "cell_type": "code",
   "execution_count": 43,
   "id": "b0236d5c",
   "metadata": {},
   "outputs": [],
   "source": [
    "stop_early = tf.keras.callbacks.EarlyStopping(monitor= 'val_categorical_accuracy', patience = 5)"
   ]
  },
  {
   "cell_type": "code",
   "execution_count": 12,
   "id": "f27b3447",
   "metadata": {},
   "outputs": [
    {
     "name": "stdout",
     "output_type": "stream",
     "text": [
      "INFO:tensorflow:Reloading Tuner from tuneLSTM\\LSTMTuner3\\tuner0.json\n"
     ]
    }
   ],
   "source": [
    "#A tuner for CNNLSTM\n",
    "tunerLSTM = BayesianOptimization(\n",
    "        build_model,\n",
    "        objective = 'val_categorical_accuracy',\n",
    "        #overwrite = True,\n",
    "        max_trials = 10,\n",
    "        alpha = 0.0001,\n",
    "        beta = 2.6,\n",
    "        max_retries_per_trial = 1,\n",
    "        max_consecutive_failed_trials = 3,\n",
    "        directory = 'tuneLSTM',\n",
    "        project_name=\"LSTMTuner3\"\n",
    "        )"
   ]
  },
  {
   "cell_type": "code",
   "execution_count": 51,
   "id": "f53827c9",
   "metadata": {},
   "outputs": [
    {
     "name": "stdout",
     "output_type": "stream",
     "text": [
      "Trial 10 Complete [00h 17m 07s]\n",
      "val_categorical_accuracy: 0.05000000074505806\n",
      "\n",
      "Best val_categorical_accuracy So Far: 0.2762500047683716\n",
      "Total elapsed time: 13h 11m 52s\n",
      "INFO:tensorflow:Oracle triggered exit\n"
     ]
    }
   ],
   "source": [
    "tunerLSTM.search(\n",
    "        x_train,\n",
    "        y_train,\n",
    "        epochs = 70,\n",
    "        batch_size = 16,\n",
    "        validation_data = (x_test, y_test),\n",
    "        callbacks = [stop_early]\n",
    "        )"
   ]
  },
  {
   "cell_type": "code",
   "execution_count": 13,
   "id": "ac821c01",
   "metadata": {},
   "outputs": [],
   "source": [
    "tunerLSTM.reload()"
   ]
  },
  {
   "cell_type": "code",
   "execution_count": 24,
   "id": "ff50ea6b",
   "metadata": {},
   "outputs": [],
   "source": [
    "best_hps = tunerLSTM.get_best_hyperparameters(num_trials = 1)[0]"
   ]
  },
  {
   "cell_type": "code",
   "execution_count": 14,
   "id": "73453a05",
   "metadata": {},
   "outputs": [
    {
     "name": "stdout",
     "output_type": "stream",
     "text": [
      "Results summary\n",
      "Results in tuneLSTM\\LSTMTuner3\n",
      "Showing 10 best trials\n",
      "<keras_tuner.engine.objective.Objective object at 0x000001E6CE0A90A0>\n",
      "Trial summary\n",
      "Hyperparameters:\n",
      "first_lstm_units: 160\n",
      "n_lstm_layers: 3\n",
      "lstm_0_units: 352\n",
      "Dropout_rate1: 0.30000000000000004\n",
      "last_layer_neurons: 288\n",
      "dense_1_units: 80\n",
      "learning_rate: 0.0001\n",
      "lstm_1_units: 352\n",
      "lstm_2_units: 256\n",
      "Score: 0.8923611044883728\n",
      "Trial summary\n",
      "Hyperparameters:\n",
      "first_lstm_units: 384\n",
      "n_lstm_layers: 1\n",
      "lstm_0_units: 288\n",
      "Dropout_rate1: 0.30000000000000004\n",
      "last_layer_neurons: 224\n",
      "dense_1_units: 32\n",
      "learning_rate: 0.0001\n",
      "lstm_1_units: 96\n",
      "lstm_2_units: 32\n",
      "lstm_3_units: 32\n",
      "lstm_4_units: 512\n",
      "Score: 0.8402777910232544\n",
      "Trial summary\n",
      "Hyperparameters:\n",
      "first_lstm_units: 256\n",
      "n_lstm_layers: 5\n",
      "lstm_0_units: 320\n",
      "Dropout_rate1: 0.1\n",
      "last_layer_neurons: 256\n",
      "dense_1_units: 96\n",
      "learning_rate: 0.0001\n",
      "lstm_1_units: 128\n",
      "lstm_2_units: 32\n",
      "lstm_3_units: 32\n",
      "lstm_4_units: 32\n",
      "Score: 0.7858796119689941\n",
      "Trial summary\n",
      "Hyperparameters:\n",
      "first_lstm_units: 384\n",
      "n_lstm_layers: 6\n",
      "lstm_0_units: 64\n",
      "Dropout_rate1: 0.1\n",
      "last_layer_neurons: 480\n",
      "dense_1_units: 80\n",
      "learning_rate: 0.0001\n",
      "lstm_1_units: 512\n",
      "lstm_2_units: 32\n",
      "lstm_3_units: 352\n",
      "lstm_4_units: 320\n",
      "lstm_5_units: 64\n",
      "lstm_6_units: 288\n",
      "Score: 0.6944444179534912\n",
      "Trial summary\n",
      "Hyperparameters:\n",
      "first_lstm_units: 64\n",
      "n_lstm_layers: 4\n",
      "lstm_0_units: 512\n",
      "Dropout_rate1: 0.0\n",
      "last_layer_neurons: 416\n",
      "dense_1_units: 112\n",
      "learning_rate: 1e-05\n",
      "lstm_1_units: 416\n",
      "lstm_2_units: 64\n",
      "lstm_3_units: 160\n",
      "lstm_4_units: 96\n",
      "Score: 0.5162037014961243\n",
      "Trial summary\n",
      "Hyperparameters:\n",
      "first_lstm_units: 480\n",
      "n_lstm_layers: 3\n",
      "lstm_0_units: 224\n",
      "Dropout_rate1: 0.2\n",
      "last_layer_neurons: 160\n",
      "dense_1_units: 128\n",
      "learning_rate: 1e-06\n",
      "lstm_1_units: 32\n",
      "lstm_2_units: 32\n",
      "Score: 0.15393517911434174\n",
      "Trial summary\n",
      "Hyperparameters:\n",
      "first_lstm_units: 256\n",
      "n_lstm_layers: 4\n",
      "lstm_0_units: 288\n",
      "Dropout_rate1: 0.1\n",
      "last_layer_neurons: 512\n",
      "dense_1_units: 80\n",
      "learning_rate: 0.001\n",
      "lstm_1_units: 320\n",
      "lstm_2_units: 320\n",
      "lstm_3_units: 416\n",
      "lstm_4_units: 160\n",
      "Score: 0.1145833358168602\n",
      "Trial summary\n",
      "Hyperparameters:\n",
      "first_lstm_units: 512\n",
      "n_lstm_layers: 7\n",
      "lstm_0_units: 288\n",
      "Dropout_rate1: 0.4\n",
      "last_layer_neurons: 320\n",
      "dense_1_units: 96\n",
      "learning_rate: 1e-05\n",
      "lstm_1_units: 128\n",
      "lstm_2_units: 480\n",
      "lstm_3_units: 384\n",
      "lstm_4_units: 96\n",
      "lstm_5_units: 32\n",
      "lstm_6_units: 32\n",
      "Score: 0.07870370149612427\n",
      "Trial summary\n",
      "Hyperparameters:\n",
      "first_lstm_units: 96\n",
      "n_lstm_layers: 1\n",
      "lstm_0_units: 192\n",
      "Dropout_rate1: 0.30000000000000004\n",
      "last_layer_neurons: 480\n",
      "dense_1_units: 48\n",
      "learning_rate: 1e-06\n",
      "lstm_1_units: 288\n",
      "lstm_2_units: 352\n",
      "Score: 0.06828703731298447\n",
      "Trial summary\n",
      "Hyperparameters:\n",
      "first_lstm_units: 512\n",
      "n_lstm_layers: 2\n",
      "lstm_0_units: 160\n",
      "Dropout_rate1: 0.4\n",
      "last_layer_neurons: 480\n",
      "dense_1_units: 32\n",
      "learning_rate: 1e-06\n",
      "lstm_1_units: 192\n",
      "lstm_2_units: 416\n",
      "Score: 0.0659722238779068\n"
     ]
    }
   ],
   "source": [
    "tunerLSTM.results_summary()"
   ]
  },
  {
   "cell_type": "code",
   "execution_count": 42,
   "id": "453e7b4c",
   "metadata": {
    "collapsed": true
   },
   "outputs": [
    {
     "name": "stdout",
     "output_type": "stream",
     "text": [
      "Epoch 1/50\n",
      "225/225 [==============================] - 223s 749ms/step - loss: 2.9691 - categorical_accuracy: 0.0714 - val_loss: 2.9558 - val_categorical_accuracy: 0.0722\n",
      "Epoch 2/50\n",
      "225/225 [==============================] - 112s 496ms/step - loss: 2.8120 - categorical_accuracy: 0.1233 - val_loss: 3.0003 - val_categorical_accuracy: 0.1049\n",
      "Epoch 3/50\n",
      "225/225 [==============================] - 112s 499ms/step - loss: 2.6363 - categorical_accuracy: 0.1833 - val_loss: 2.8189 - val_categorical_accuracy: 0.1806\n",
      "Epoch 4/50\n",
      "225/225 [==============================] - 111s 494ms/step - loss: 2.3971 - categorical_accuracy: 0.2458 - val_loss: 2.7085 - val_categorical_accuracy: 0.2229\n",
      "Epoch 5/50\n",
      "225/225 [==============================] - 111s 495ms/step - loss: 2.1013 - categorical_accuracy: 0.3169 - val_loss: 2.5786 - val_categorical_accuracy: 0.2639\n",
      "Epoch 6/50\n",
      "225/225 [==============================] - 112s 496ms/step - loss: 1.7958 - categorical_accuracy: 0.4178 - val_loss: 2.8439 - val_categorical_accuracy: 0.2347\n",
      "Epoch 7/50\n",
      "225/225 [==============================] - 111s 491ms/step - loss: 1.4992 - categorical_accuracy: 0.5097 - val_loss: 3.0596 - val_categorical_accuracy: 0.2292\n",
      "Epoch 8/50\n",
      "225/225 [==============================] - 110s 488ms/step - loss: 1.3033 - categorical_accuracy: 0.5667 - val_loss: 3.0860 - val_categorical_accuracy: 0.2653\n",
      "Epoch 9/50\n",
      "225/225 [==============================] - 110s 488ms/step - loss: 1.0921 - categorical_accuracy: 0.6481 - val_loss: 3.3462 - val_categorical_accuracy: 0.2493\n",
      "Epoch 10/50\n",
      "225/225 [==============================] - 109s 484ms/step - loss: 0.9011 - categorical_accuracy: 0.7089 - val_loss: 3.3526 - val_categorical_accuracy: 0.2854\n",
      "Epoch 11/50\n",
      "225/225 [==============================] - 109s 483ms/step - loss: 0.8212 - categorical_accuracy: 0.7314 - val_loss: 3.4863 - val_categorical_accuracy: 0.2618\n",
      "Epoch 12/50\n",
      "225/225 [==============================] - 108s 482ms/step - loss: 0.7034 - categorical_accuracy: 0.7736 - val_loss: 3.6408 - val_categorical_accuracy: 0.2826\n",
      "Epoch 13/50\n",
      "225/225 [==============================] - 113s 501ms/step - loss: 0.6195 - categorical_accuracy: 0.7936 - val_loss: 3.6143 - val_categorical_accuracy: 0.2986\n",
      "Epoch 14/50\n",
      "225/225 [==============================] - 112s 496ms/step - loss: 0.5120 - categorical_accuracy: 0.8406 - val_loss: 3.9533 - val_categorical_accuracy: 0.2819\n",
      "Epoch 15/50\n",
      "225/225 [==============================] - 113s 501ms/step - loss: 0.4823 - categorical_accuracy: 0.8494 - val_loss: 3.7743 - val_categorical_accuracy: 0.2826\n",
      "Epoch 16/50\n",
      "225/225 [==============================] - 112s 497ms/step - loss: 0.4143 - categorical_accuracy: 0.8753 - val_loss: 4.0830 - val_categorical_accuracy: 0.2806\n",
      "Epoch 17/50\n",
      "225/225 [==============================] - 112s 497ms/step - loss: 0.3894 - categorical_accuracy: 0.8769 - val_loss: 4.0130 - val_categorical_accuracy: 0.2889\n",
      "Epoch 18/50\n",
      "225/225 [==============================] - 112s 497ms/step - loss: 0.3547 - categorical_accuracy: 0.8864 - val_loss: 4.1472 - val_categorical_accuracy: 0.2993\n",
      "Epoch 19/50\n",
      "225/225 [==============================] - 112s 497ms/step - loss: 0.3322 - categorical_accuracy: 0.8922 - val_loss: 4.1763 - val_categorical_accuracy: 0.2965\n",
      "Epoch 20/50\n",
      "225/225 [==============================] - 113s 503ms/step - loss: 0.2931 - categorical_accuracy: 0.9058 - val_loss: 4.4166 - val_categorical_accuracy: 0.2771\n",
      "Epoch 21/50\n",
      "111/225 [=============>................] - ETA: 55s - loss: 0.2881 - categorical_accuracy: 0.9065"
     ]
    },
    {
     "ename": "KeyboardInterrupt",
     "evalue": "",
     "output_type": "error",
     "traceback": [
      "\u001b[1;31m---------------------------------------------------------------------------\u001b[0m",
      "\u001b[1;31mKeyboardInterrupt\u001b[0m                         Traceback (most recent call last)",
      "\u001b[1;32m~\\AppData\\Local\\Temp\\ipykernel_9324\\2291515654.py\u001b[0m in \u001b[0;36m<module>\u001b[1;34m\u001b[0m\n\u001b[0;32m      3\u001b[0m \u001b[1;33m\u001b[0m\u001b[0m\n\u001b[0;32m      4\u001b[0m \u001b[1;31m#The name of the model should be changed to ConvLSTMEthSLR\u001b[0m\u001b[1;33m\u001b[0m\u001b[1;33m\u001b[0m\u001b[0m\n\u001b[1;32m----> 5\u001b[1;33m \u001b[0mLSTMEthSLR\u001b[0m \u001b[1;33m=\u001b[0m \u001b[0mmodel\u001b[0m\u001b[1;33m.\u001b[0m\u001b[0mfit\u001b[0m\u001b[1;33m(\u001b[0m\u001b[0mx_train\u001b[0m\u001b[1;33m,\u001b[0m \u001b[0my_train\u001b[0m\u001b[1;33m,\u001b[0m \u001b[0mepochs\u001b[0m \u001b[1;33m=\u001b[0m \u001b[1;36m50\u001b[0m\u001b[1;33m,\u001b[0m \u001b[0mbatch_size\u001b[0m \u001b[1;33m=\u001b[0m \u001b[1;36m16\u001b[0m\u001b[1;33m,\u001b[0m \u001b[0mvalidation_data\u001b[0m \u001b[1;33m=\u001b[0m \u001b[1;33m(\u001b[0m\u001b[0mx_test\u001b[0m\u001b[1;33m,\u001b[0m \u001b[0my_test\u001b[0m\u001b[1;33m)\u001b[0m\u001b[1;33m)\u001b[0m\u001b[1;33m\u001b[0m\u001b[1;33m\u001b[0m\u001b[0m\n\u001b[0m",
      "\u001b[1;32m~\\anaconda3\\lib\\site-packages\\keras\\utils\\traceback_utils.py\u001b[0m in \u001b[0;36merror_handler\u001b[1;34m(*args, **kwargs)\u001b[0m\n\u001b[0;32m     63\u001b[0m         \u001b[0mfiltered_tb\u001b[0m \u001b[1;33m=\u001b[0m \u001b[1;32mNone\u001b[0m\u001b[1;33m\u001b[0m\u001b[1;33m\u001b[0m\u001b[0m\n\u001b[0;32m     64\u001b[0m         \u001b[1;32mtry\u001b[0m\u001b[1;33m:\u001b[0m\u001b[1;33m\u001b[0m\u001b[1;33m\u001b[0m\u001b[0m\n\u001b[1;32m---> 65\u001b[1;33m             \u001b[1;32mreturn\u001b[0m \u001b[0mfn\u001b[0m\u001b[1;33m(\u001b[0m\u001b[1;33m*\u001b[0m\u001b[0margs\u001b[0m\u001b[1;33m,\u001b[0m \u001b[1;33m**\u001b[0m\u001b[0mkwargs\u001b[0m\u001b[1;33m)\u001b[0m\u001b[1;33m\u001b[0m\u001b[1;33m\u001b[0m\u001b[0m\n\u001b[0m\u001b[0;32m     66\u001b[0m         \u001b[1;32mexcept\u001b[0m \u001b[0mException\u001b[0m \u001b[1;32mas\u001b[0m \u001b[0me\u001b[0m\u001b[1;33m:\u001b[0m\u001b[1;33m\u001b[0m\u001b[1;33m\u001b[0m\u001b[0m\n\u001b[0;32m     67\u001b[0m             \u001b[0mfiltered_tb\u001b[0m \u001b[1;33m=\u001b[0m \u001b[0m_process_traceback_frames\u001b[0m\u001b[1;33m(\u001b[0m\u001b[0me\u001b[0m\u001b[1;33m.\u001b[0m\u001b[0m__traceback__\u001b[0m\u001b[1;33m)\u001b[0m\u001b[1;33m\u001b[0m\u001b[1;33m\u001b[0m\u001b[0m\n",
      "\u001b[1;32m~\\anaconda3\\lib\\site-packages\\keras\\engine\\training.py\u001b[0m in \u001b[0;36mfit\u001b[1;34m(self, x, y, batch_size, epochs, verbose, callbacks, validation_split, validation_data, shuffle, class_weight, sample_weight, initial_epoch, steps_per_epoch, validation_steps, validation_batch_size, validation_freq, max_queue_size, workers, use_multiprocessing)\u001b[0m\n\u001b[0;32m   1639\u001b[0m                 \u001b[0mcallbacks\u001b[0m\u001b[1;33m.\u001b[0m\u001b[0mon_epoch_begin\u001b[0m\u001b[1;33m(\u001b[0m\u001b[0mepoch\u001b[0m\u001b[1;33m)\u001b[0m\u001b[1;33m\u001b[0m\u001b[1;33m\u001b[0m\u001b[0m\n\u001b[0;32m   1640\u001b[0m                 \u001b[1;32mwith\u001b[0m \u001b[0mdata_handler\u001b[0m\u001b[1;33m.\u001b[0m\u001b[0mcatch_stop_iteration\u001b[0m\u001b[1;33m(\u001b[0m\u001b[1;33m)\u001b[0m\u001b[1;33m:\u001b[0m\u001b[1;33m\u001b[0m\u001b[1;33m\u001b[0m\u001b[0m\n\u001b[1;32m-> 1641\u001b[1;33m                     \u001b[1;32mfor\u001b[0m \u001b[0mstep\u001b[0m \u001b[1;32min\u001b[0m \u001b[0mdata_handler\u001b[0m\u001b[1;33m.\u001b[0m\u001b[0msteps\u001b[0m\u001b[1;33m(\u001b[0m\u001b[1;33m)\u001b[0m\u001b[1;33m:\u001b[0m\u001b[1;33m\u001b[0m\u001b[1;33m\u001b[0m\u001b[0m\n\u001b[0m\u001b[0;32m   1642\u001b[0m                         with tf.profiler.experimental.Trace(\n\u001b[0;32m   1643\u001b[0m                             \u001b[1;34m\"train\"\u001b[0m\u001b[1;33m,\u001b[0m\u001b[1;33m\u001b[0m\u001b[1;33m\u001b[0m\u001b[0m\n",
      "\u001b[1;32m~\\anaconda3\\lib\\site-packages\\keras\\engine\\data_adapter.py\u001b[0m in \u001b[0;36msteps\u001b[1;34m(self)\u001b[0m\n\u001b[0;32m   1369\u001b[0m             \u001b[1;32mif\u001b[0m \u001b[0mself\u001b[0m\u001b[1;33m.\u001b[0m\u001b[0m_insufficient_data\u001b[0m\u001b[1;33m:\u001b[0m  \u001b[1;31m# Set by `catch_stop_iteration`.\u001b[0m\u001b[1;33m\u001b[0m\u001b[1;33m\u001b[0m\u001b[0m\n\u001b[0;32m   1370\u001b[0m                 \u001b[1;32mbreak\u001b[0m\u001b[1;33m\u001b[0m\u001b[1;33m\u001b[0m\u001b[0m\n\u001b[1;32m-> 1371\u001b[1;33m             \u001b[0moriginal_spe\u001b[0m \u001b[1;33m=\u001b[0m \u001b[0mself\u001b[0m\u001b[1;33m.\u001b[0m\u001b[0m_steps_per_execution\u001b[0m\u001b[1;33m.\u001b[0m\u001b[0mnumpy\u001b[0m\u001b[1;33m(\u001b[0m\u001b[1;33m)\u001b[0m\u001b[1;33m.\u001b[0m\u001b[0mitem\u001b[0m\u001b[1;33m(\u001b[0m\u001b[1;33m)\u001b[0m\u001b[1;33m\u001b[0m\u001b[1;33m\u001b[0m\u001b[0m\n\u001b[0m\u001b[0;32m   1372\u001b[0m             can_run_full_execution = (\n\u001b[0;32m   1373\u001b[0m                 \u001b[0moriginal_spe\u001b[0m \u001b[1;33m==\u001b[0m \u001b[1;36m1\u001b[0m\u001b[1;33m\u001b[0m\u001b[1;33m\u001b[0m\u001b[0m\n",
      "\u001b[1;32m~\\anaconda3\\lib\\site-packages\\tensorflow\\python\\ops\\resource_variable_ops.py\u001b[0m in \u001b[0;36mnumpy\u001b[1;34m(self)\u001b[0m\n\u001b[0;32m    637\u001b[0m   \u001b[1;32mdef\u001b[0m \u001b[0mnumpy\u001b[0m\u001b[1;33m(\u001b[0m\u001b[0mself\u001b[0m\u001b[1;33m)\u001b[0m\u001b[1;33m:\u001b[0m\u001b[1;33m\u001b[0m\u001b[1;33m\u001b[0m\u001b[0m\n\u001b[0;32m    638\u001b[0m     \u001b[1;32mif\u001b[0m \u001b[0mcontext\u001b[0m\u001b[1;33m.\u001b[0m\u001b[0mexecuting_eagerly\u001b[0m\u001b[1;33m(\u001b[0m\u001b[1;33m)\u001b[0m\u001b[1;33m:\u001b[0m\u001b[1;33m\u001b[0m\u001b[1;33m\u001b[0m\u001b[0m\n\u001b[1;32m--> 639\u001b[1;33m       \u001b[1;32mreturn\u001b[0m \u001b[0mself\u001b[0m\u001b[1;33m.\u001b[0m\u001b[0mread_value\u001b[0m\u001b[1;33m(\u001b[0m\u001b[1;33m)\u001b[0m\u001b[1;33m.\u001b[0m\u001b[0mnumpy\u001b[0m\u001b[1;33m(\u001b[0m\u001b[1;33m)\u001b[0m\u001b[1;33m\u001b[0m\u001b[1;33m\u001b[0m\u001b[0m\n\u001b[0m\u001b[0;32m    640\u001b[0m     raise NotImplementedError(\n\u001b[0;32m    641\u001b[0m         \"numpy() is only available when eager execution is enabled.\")\n",
      "\u001b[1;32m~\\anaconda3\\lib\\site-packages\\tensorflow\\python\\ops\\resource_variable_ops.py\u001b[0m in \u001b[0;36mread_value\u001b[1;34m(self)\u001b[0m\n\u001b[0;32m    728\u001b[0m     \u001b[1;31m# Return an identity so it can get placed on whatever device the context\u001b[0m\u001b[1;33m\u001b[0m\u001b[1;33m\u001b[0m\u001b[0m\n\u001b[0;32m    729\u001b[0m     \u001b[1;31m# specifies instead of the device where the variable is.\u001b[0m\u001b[1;33m\u001b[0m\u001b[1;33m\u001b[0m\u001b[0m\n\u001b[1;32m--> 730\u001b[1;33m     \u001b[1;32mreturn\u001b[0m \u001b[0marray_ops\u001b[0m\u001b[1;33m.\u001b[0m\u001b[0midentity\u001b[0m\u001b[1;33m(\u001b[0m\u001b[0mvalue\u001b[0m\u001b[1;33m)\u001b[0m\u001b[1;33m\u001b[0m\u001b[1;33m\u001b[0m\u001b[0m\n\u001b[0m\u001b[0;32m    731\u001b[0m \u001b[1;33m\u001b[0m\u001b[0m\n\u001b[0;32m    732\u001b[0m   \u001b[1;32mdef\u001b[0m \u001b[0mread_value_no_copy\u001b[0m\u001b[1;33m(\u001b[0m\u001b[0mself\u001b[0m\u001b[1;33m)\u001b[0m\u001b[1;33m:\u001b[0m\u001b[1;33m\u001b[0m\u001b[1;33m\u001b[0m\u001b[0m\n",
      "\u001b[1;32m~\\anaconda3\\lib\\site-packages\\tensorflow\\python\\util\\traceback_utils.py\u001b[0m in \u001b[0;36merror_handler\u001b[1;34m(*args, **kwargs)\u001b[0m\n\u001b[0;32m    148\u001b[0m     \u001b[0mfiltered_tb\u001b[0m \u001b[1;33m=\u001b[0m \u001b[1;32mNone\u001b[0m\u001b[1;33m\u001b[0m\u001b[1;33m\u001b[0m\u001b[0m\n\u001b[0;32m    149\u001b[0m     \u001b[1;32mtry\u001b[0m\u001b[1;33m:\u001b[0m\u001b[1;33m\u001b[0m\u001b[1;33m\u001b[0m\u001b[0m\n\u001b[1;32m--> 150\u001b[1;33m       \u001b[1;32mreturn\u001b[0m \u001b[0mfn\u001b[0m\u001b[1;33m(\u001b[0m\u001b[1;33m*\u001b[0m\u001b[0margs\u001b[0m\u001b[1;33m,\u001b[0m \u001b[1;33m**\u001b[0m\u001b[0mkwargs\u001b[0m\u001b[1;33m)\u001b[0m\u001b[1;33m\u001b[0m\u001b[1;33m\u001b[0m\u001b[0m\n\u001b[0m\u001b[0;32m    151\u001b[0m     \u001b[1;32mexcept\u001b[0m \u001b[0mException\u001b[0m \u001b[1;32mas\u001b[0m \u001b[0me\u001b[0m\u001b[1;33m:\u001b[0m\u001b[1;33m\u001b[0m\u001b[1;33m\u001b[0m\u001b[0m\n\u001b[0;32m    152\u001b[0m       \u001b[0mfiltered_tb\u001b[0m \u001b[1;33m=\u001b[0m \u001b[0m_process_traceback_frames\u001b[0m\u001b[1;33m(\u001b[0m\u001b[0me\u001b[0m\u001b[1;33m.\u001b[0m\u001b[0m__traceback__\u001b[0m\u001b[1;33m)\u001b[0m\u001b[1;33m\u001b[0m\u001b[1;33m\u001b[0m\u001b[0m\n",
      "\u001b[1;32m~\\anaconda3\\lib\\site-packages\\tensorflow\\python\\util\\dispatch.py\u001b[0m in \u001b[0;36mop_dispatch_handler\u001b[1;34m(*args, **kwargs)\u001b[0m\n\u001b[0;32m   1174\u001b[0m       \u001b[1;31m# Fallback dispatch system (dispatch v1):\u001b[0m\u001b[1;33m\u001b[0m\u001b[1;33m\u001b[0m\u001b[0m\n\u001b[0;32m   1175\u001b[0m       \u001b[1;32mtry\u001b[0m\u001b[1;33m:\u001b[0m\u001b[1;33m\u001b[0m\u001b[1;33m\u001b[0m\u001b[0m\n\u001b[1;32m-> 1176\u001b[1;33m         \u001b[1;32mreturn\u001b[0m \u001b[0mdispatch_target\u001b[0m\u001b[1;33m(\u001b[0m\u001b[1;33m*\u001b[0m\u001b[0margs\u001b[0m\u001b[1;33m,\u001b[0m \u001b[1;33m**\u001b[0m\u001b[0mkwargs\u001b[0m\u001b[1;33m)\u001b[0m\u001b[1;33m\u001b[0m\u001b[1;33m\u001b[0m\u001b[0m\n\u001b[0m\u001b[0;32m   1177\u001b[0m       \u001b[1;32mexcept\u001b[0m \u001b[1;33m(\u001b[0m\u001b[0mTypeError\u001b[0m\u001b[1;33m,\u001b[0m \u001b[0mValueError\u001b[0m\u001b[1;33m)\u001b[0m\u001b[1;33m:\u001b[0m\u001b[1;33m\u001b[0m\u001b[1;33m\u001b[0m\u001b[0m\n\u001b[0;32m   1178\u001b[0m         \u001b[1;31m# Note: convert_to_eager_tensor currently raises a ValueError, not a\u001b[0m\u001b[1;33m\u001b[0m\u001b[1;33m\u001b[0m\u001b[0m\n",
      "\u001b[1;32m~\\anaconda3\\lib\\site-packages\\tensorflow\\python\\ops\\array_ops.py\u001b[0m in \u001b[0;36midentity\u001b[1;34m(input, name)\u001b[0m\n\u001b[0;32m    292\u001b[0m     \u001b[1;31m# variables. Variables have correct handle data when graph building.\u001b[0m\u001b[1;33m\u001b[0m\u001b[1;33m\u001b[0m\u001b[0m\n\u001b[0;32m    293\u001b[0m     \u001b[0minput\u001b[0m \u001b[1;33m=\u001b[0m \u001b[0mops\u001b[0m\u001b[1;33m.\u001b[0m\u001b[0mconvert_to_tensor\u001b[0m\u001b[1;33m(\u001b[0m\u001b[0minput\u001b[0m\u001b[1;33m)\u001b[0m\u001b[1;33m\u001b[0m\u001b[1;33m\u001b[0m\u001b[0m\n\u001b[1;32m--> 294\u001b[1;33m   \u001b[0mret\u001b[0m \u001b[1;33m=\u001b[0m \u001b[0mgen_array_ops\u001b[0m\u001b[1;33m.\u001b[0m\u001b[0midentity\u001b[0m\u001b[1;33m(\u001b[0m\u001b[0minput\u001b[0m\u001b[1;33m,\u001b[0m \u001b[0mname\u001b[0m\u001b[1;33m=\u001b[0m\u001b[0mname\u001b[0m\u001b[1;33m)\u001b[0m\u001b[1;33m\u001b[0m\u001b[1;33m\u001b[0m\u001b[0m\n\u001b[0m\u001b[0;32m    295\u001b[0m   \u001b[1;31m# Propagate handle data for happier shape inference for resource variables.\u001b[0m\u001b[1;33m\u001b[0m\u001b[1;33m\u001b[0m\u001b[0m\n\u001b[0;32m    296\u001b[0m   \u001b[1;32mif\u001b[0m \u001b[0mhasattr\u001b[0m\u001b[1;33m(\u001b[0m\u001b[0minput\u001b[0m\u001b[1;33m,\u001b[0m \u001b[1;34m\"_handle_data\"\u001b[0m\u001b[1;33m)\u001b[0m\u001b[1;33m:\u001b[0m\u001b[1;33m\u001b[0m\u001b[1;33m\u001b[0m\u001b[0m\n",
      "\u001b[1;32m~\\anaconda3\\lib\\site-packages\\tensorflow\\python\\ops\\gen_array_ops.py\u001b[0m in \u001b[0;36midentity\u001b[1;34m(input, name)\u001b[0m\n\u001b[0;32m   4833\u001b[0m   \u001b[1;32mif\u001b[0m \u001b[0mtld\u001b[0m\u001b[1;33m.\u001b[0m\u001b[0mis_eager\u001b[0m\u001b[1;33m:\u001b[0m\u001b[1;33m\u001b[0m\u001b[1;33m\u001b[0m\u001b[0m\n\u001b[0;32m   4834\u001b[0m     \u001b[1;32mtry\u001b[0m\u001b[1;33m:\u001b[0m\u001b[1;33m\u001b[0m\u001b[1;33m\u001b[0m\u001b[0m\n\u001b[1;32m-> 4835\u001b[1;33m       _result = pywrap_tfe.TFE_Py_FastPathExecute(\n\u001b[0m\u001b[0;32m   4836\u001b[0m         _ctx, \"Identity\", name, input)\n\u001b[0;32m   4837\u001b[0m       \u001b[1;32mreturn\u001b[0m \u001b[0m_result\u001b[0m\u001b[1;33m\u001b[0m\u001b[1;33m\u001b[0m\u001b[0m\n",
      "\u001b[1;31mKeyboardInterrupt\u001b[0m: "
     ]
    }
   ],
   "source": [
    "#tunerCNNLSTM should be changed while doing for ConvLSTM\n",
    "model = tunerLSTM.hypermodel.build(best_hps)\n",
    "\n",
    "#The name of the model should be changed to ConvLSTMEthSLR\n",
    "LSTMEthSLR = model.fit(x_train, y_train, epochs = 50, batch_size = 16, validation_data = (x_test, y_test)) "
   ]
  },
  {
   "cell_type": "code",
   "execution_count": 38,
   "id": "79506069",
   "metadata": {},
   "outputs": [
    {
     "name": "stdout",
     "output_type": "stream",
     "text": [
      "Model: \"sequential_3\"\n",
      "_________________________________________________________________\n",
      " Layer (type)                Output Shape              Param #   \n",
      "=================================================================\n",
      " lstm_9 (LSTM)               (None, 30, 96)            675456    \n",
      "                                                                 \n",
      " lstm_10 (LSTM)              (None, 30, 256)           361472    \n",
      "                                                                 \n",
      " dropout_3 (Dropout)         (None, 30, 256)           0         \n",
      "                                                                 \n",
      " lstm_11 (LSTM)              (None, 448)               1263360   \n",
      "                                                                 \n",
      " dense_6 (Dense)             (None, 112)               50288     \n",
      "                                                                 \n",
      " dense_7 (Dense)             (None, 20)                2260      \n",
      "                                                                 \n",
      "=================================================================\n",
      "Total params: 2,352,836\n",
      "Trainable params: 2,352,836\n",
      "Non-trainable params: 0\n",
      "_________________________________________________________________\n"
     ]
    }
   ],
   "source": [
    "model.summary()"
   ]
  },
  {
   "cell_type": "code",
   "execution_count": 37,
   "id": "dc8bd10b",
   "metadata": {},
   "outputs": [
    {
     "data": {
      "text/html": [
       "<div>\n",
       "<style scoped>\n",
       "    .dataframe tbody tr th:only-of-type {\n",
       "        vertical-align: middle;\n",
       "    }\n",
       "\n",
       "    .dataframe tbody tr th {\n",
       "        vertical-align: top;\n",
       "    }\n",
       "\n",
       "    .dataframe thead th {\n",
       "        text-align: right;\n",
       "    }\n",
       "</style>\n",
       "<table border=\"1\" class=\"dataframe\">\n",
       "  <thead>\n",
       "    <tr style=\"text-align: right;\">\n",
       "      <th></th>\n",
       "      <th>loss</th>\n",
       "      <th>categorical_accuracy</th>\n",
       "      <th>val_loss</th>\n",
       "      <th>val_categorical_accuracy</th>\n",
       "    </tr>\n",
       "  </thead>\n",
       "  <tbody>\n",
       "    <tr>\n",
       "      <th>0</th>\n",
       "      <td>2.955113</td>\n",
       "      <td>0.081303</td>\n",
       "      <td>2.836140</td>\n",
       "      <td>0.141667</td>\n",
       "    </tr>\n",
       "    <tr>\n",
       "      <th>1</th>\n",
       "      <td>2.707130</td>\n",
       "      <td>0.154622</td>\n",
       "      <td>2.615559</td>\n",
       "      <td>0.177381</td>\n",
       "    </tr>\n",
       "    <tr>\n",
       "      <th>2</th>\n",
       "      <td>2.440205</td>\n",
       "      <td>0.228361</td>\n",
       "      <td>2.289610</td>\n",
       "      <td>0.276190</td>\n",
       "    </tr>\n",
       "    <tr>\n",
       "      <th>3</th>\n",
       "      <td>2.138890</td>\n",
       "      <td>0.317017</td>\n",
       "      <td>1.944979</td>\n",
       "      <td>0.369048</td>\n",
       "    </tr>\n",
       "    <tr>\n",
       "      <th>4</th>\n",
       "      <td>1.806288</td>\n",
       "      <td>0.426261</td>\n",
       "      <td>1.685481</td>\n",
       "      <td>0.452381</td>\n",
       "    </tr>\n",
       "    <tr>\n",
       "      <th>5</th>\n",
       "      <td>1.512773</td>\n",
       "      <td>0.510714</td>\n",
       "      <td>1.355062</td>\n",
       "      <td>0.589286</td>\n",
       "    </tr>\n",
       "    <tr>\n",
       "      <th>6</th>\n",
       "      <td>1.288467</td>\n",
       "      <td>0.581513</td>\n",
       "      <td>1.330683</td>\n",
       "      <td>0.589286</td>\n",
       "    </tr>\n",
       "    <tr>\n",
       "      <th>7</th>\n",
       "      <td>1.085798</td>\n",
       "      <td>0.658824</td>\n",
       "      <td>0.966423</td>\n",
       "      <td>0.726190</td>\n",
       "    </tr>\n",
       "    <tr>\n",
       "      <th>8</th>\n",
       "      <td>0.879638</td>\n",
       "      <td>0.727941</td>\n",
       "      <td>0.950085</td>\n",
       "      <td>0.704762</td>\n",
       "    </tr>\n",
       "    <tr>\n",
       "      <th>9</th>\n",
       "      <td>0.743142</td>\n",
       "      <td>0.769538</td>\n",
       "      <td>0.816896</td>\n",
       "      <td>0.748810</td>\n",
       "    </tr>\n",
       "    <tr>\n",
       "      <th>10</th>\n",
       "      <td>0.666967</td>\n",
       "      <td>0.796639</td>\n",
       "      <td>0.768215</td>\n",
       "      <td>0.769048</td>\n",
       "    </tr>\n",
       "    <tr>\n",
       "      <th>11</th>\n",
       "      <td>0.584549</td>\n",
       "      <td>0.815336</td>\n",
       "      <td>0.634142</td>\n",
       "      <td>0.805952</td>\n",
       "    </tr>\n",
       "    <tr>\n",
       "      <th>12</th>\n",
       "      <td>0.450591</td>\n",
       "      <td>0.859664</td>\n",
       "      <td>0.543469</td>\n",
       "      <td>0.847619</td>\n",
       "    </tr>\n",
       "    <tr>\n",
       "      <th>13</th>\n",
       "      <td>0.415789</td>\n",
       "      <td>0.869118</td>\n",
       "      <td>0.555661</td>\n",
       "      <td>0.836905</td>\n",
       "    </tr>\n",
       "    <tr>\n",
       "      <th>14</th>\n",
       "      <td>0.385363</td>\n",
       "      <td>0.878361</td>\n",
       "      <td>0.523097</td>\n",
       "      <td>0.836905</td>\n",
       "    </tr>\n",
       "    <tr>\n",
       "      <th>15</th>\n",
       "      <td>0.309925</td>\n",
       "      <td>0.905882</td>\n",
       "      <td>0.505984</td>\n",
       "      <td>0.846429</td>\n",
       "    </tr>\n",
       "    <tr>\n",
       "      <th>16</th>\n",
       "      <td>0.346384</td>\n",
       "      <td>0.890546</td>\n",
       "      <td>0.597214</td>\n",
       "      <td>0.819048</td>\n",
       "    </tr>\n",
       "    <tr>\n",
       "      <th>17</th>\n",
       "      <td>0.247376</td>\n",
       "      <td>0.923109</td>\n",
       "      <td>0.519356</td>\n",
       "      <td>0.832143</td>\n",
       "    </tr>\n",
       "    <tr>\n",
       "      <th>18</th>\n",
       "      <td>0.207595</td>\n",
       "      <td>0.940756</td>\n",
       "      <td>0.467875</td>\n",
       "      <td>0.860714</td>\n",
       "    </tr>\n",
       "    <tr>\n",
       "      <th>19</th>\n",
       "      <td>0.227407</td>\n",
       "      <td>0.929622</td>\n",
       "      <td>0.465483</td>\n",
       "      <td>0.871429</td>\n",
       "    </tr>\n",
       "    <tr>\n",
       "      <th>20</th>\n",
       "      <td>0.201747</td>\n",
       "      <td>0.940336</td>\n",
       "      <td>0.511613</td>\n",
       "      <td>0.851190</td>\n",
       "    </tr>\n",
       "    <tr>\n",
       "      <th>21</th>\n",
       "      <td>0.183142</td>\n",
       "      <td>0.944538</td>\n",
       "      <td>0.514512</td>\n",
       "      <td>0.842857</td>\n",
       "    </tr>\n",
       "    <tr>\n",
       "      <th>22</th>\n",
       "      <td>0.181159</td>\n",
       "      <td>0.943067</td>\n",
       "      <td>0.477022</td>\n",
       "      <td>0.869048</td>\n",
       "    </tr>\n",
       "    <tr>\n",
       "      <th>23</th>\n",
       "      <td>0.233285</td>\n",
       "      <td>0.924790</td>\n",
       "      <td>0.546070</td>\n",
       "      <td>0.838095</td>\n",
       "    </tr>\n",
       "    <tr>\n",
       "      <th>24</th>\n",
       "      <td>0.194493</td>\n",
       "      <td>0.939916</td>\n",
       "      <td>0.412020</td>\n",
       "      <td>0.884524</td>\n",
       "    </tr>\n",
       "    <tr>\n",
       "      <th>25</th>\n",
       "      <td>0.173143</td>\n",
       "      <td>0.943487</td>\n",
       "      <td>0.490129</td>\n",
       "      <td>0.858333</td>\n",
       "    </tr>\n",
       "    <tr>\n",
       "      <th>26</th>\n",
       "      <td>0.122624</td>\n",
       "      <td>0.962605</td>\n",
       "      <td>0.463699</td>\n",
       "      <td>0.866667</td>\n",
       "    </tr>\n",
       "    <tr>\n",
       "      <th>27</th>\n",
       "      <td>0.119062</td>\n",
       "      <td>0.965126</td>\n",
       "      <td>0.367902</td>\n",
       "      <td>0.895238</td>\n",
       "    </tr>\n",
       "    <tr>\n",
       "      <th>28</th>\n",
       "      <td>0.143062</td>\n",
       "      <td>0.953571</td>\n",
       "      <td>0.354678</td>\n",
       "      <td>0.884524</td>\n",
       "    </tr>\n",
       "    <tr>\n",
       "      <th>29</th>\n",
       "      <td>0.133849</td>\n",
       "      <td>0.959454</td>\n",
       "      <td>0.602996</td>\n",
       "      <td>0.821429</td>\n",
       "    </tr>\n",
       "    <tr>\n",
       "      <th>30</th>\n",
       "      <td>0.118846</td>\n",
       "      <td>0.963866</td>\n",
       "      <td>0.350944</td>\n",
       "      <td>0.895238</td>\n",
       "    </tr>\n",
       "    <tr>\n",
       "      <th>31</th>\n",
       "      <td>0.082858</td>\n",
       "      <td>0.975000</td>\n",
       "      <td>0.464054</td>\n",
       "      <td>0.864286</td>\n",
       "    </tr>\n",
       "    <tr>\n",
       "      <th>32</th>\n",
       "      <td>0.152057</td>\n",
       "      <td>0.948109</td>\n",
       "      <td>0.362209</td>\n",
       "      <td>0.891667</td>\n",
       "    </tr>\n",
       "    <tr>\n",
       "      <th>33</th>\n",
       "      <td>0.131866</td>\n",
       "      <td>0.960294</td>\n",
       "      <td>0.392892</td>\n",
       "      <td>0.890476</td>\n",
       "    </tr>\n",
       "    <tr>\n",
       "      <th>34</th>\n",
       "      <td>0.119102</td>\n",
       "      <td>0.961555</td>\n",
       "      <td>0.410267</td>\n",
       "      <td>0.882143</td>\n",
       "    </tr>\n",
       "    <tr>\n",
       "      <th>35</th>\n",
       "      <td>0.078623</td>\n",
       "      <td>0.976260</td>\n",
       "      <td>0.432840</td>\n",
       "      <td>0.890476</td>\n",
       "    </tr>\n",
       "    <tr>\n",
       "      <th>36</th>\n",
       "      <td>0.079056</td>\n",
       "      <td>0.977311</td>\n",
       "      <td>0.447402</td>\n",
       "      <td>0.876190</td>\n",
       "    </tr>\n",
       "    <tr>\n",
       "      <th>37</th>\n",
       "      <td>0.171016</td>\n",
       "      <td>0.940546</td>\n",
       "      <td>0.550324</td>\n",
       "      <td>0.847619</td>\n",
       "    </tr>\n",
       "    <tr>\n",
       "      <th>38</th>\n",
       "      <td>0.113426</td>\n",
       "      <td>0.964706</td>\n",
       "      <td>0.349698</td>\n",
       "      <td>0.901190</td>\n",
       "    </tr>\n",
       "    <tr>\n",
       "      <th>39</th>\n",
       "      <td>0.103923</td>\n",
       "      <td>0.968697</td>\n",
       "      <td>0.366317</td>\n",
       "      <td>0.890476</td>\n",
       "    </tr>\n",
       "    <tr>\n",
       "      <th>40</th>\n",
       "      <td>0.065305</td>\n",
       "      <td>0.980882</td>\n",
       "      <td>0.380517</td>\n",
       "      <td>0.888095</td>\n",
       "    </tr>\n",
       "    <tr>\n",
       "      <th>41</th>\n",
       "      <td>0.076342</td>\n",
       "      <td>0.976891</td>\n",
       "      <td>0.450585</td>\n",
       "      <td>0.879762</td>\n",
       "    </tr>\n",
       "    <tr>\n",
       "      <th>42</th>\n",
       "      <td>0.140121</td>\n",
       "      <td>0.952521</td>\n",
       "      <td>0.445260</td>\n",
       "      <td>0.879762</td>\n",
       "    </tr>\n",
       "    <tr>\n",
       "      <th>43</th>\n",
       "      <td>0.099298</td>\n",
       "      <td>0.968277</td>\n",
       "      <td>0.377126</td>\n",
       "      <td>0.897619</td>\n",
       "    </tr>\n",
       "    <tr>\n",
       "      <th>44</th>\n",
       "      <td>0.022375</td>\n",
       "      <td>0.995168</td>\n",
       "      <td>0.289932</td>\n",
       "      <td>0.919048</td>\n",
       "    </tr>\n",
       "    <tr>\n",
       "      <th>45</th>\n",
       "      <td>0.018518</td>\n",
       "      <td>0.996219</td>\n",
       "      <td>0.352259</td>\n",
       "      <td>0.907143</td>\n",
       "    </tr>\n",
       "    <tr>\n",
       "      <th>46</th>\n",
       "      <td>0.127907</td>\n",
       "      <td>0.959034</td>\n",
       "      <td>0.364725</td>\n",
       "      <td>0.902381</td>\n",
       "    </tr>\n",
       "    <tr>\n",
       "      <th>47</th>\n",
       "      <td>0.088084</td>\n",
       "      <td>0.972899</td>\n",
       "      <td>0.463074</td>\n",
       "      <td>0.880952</td>\n",
       "    </tr>\n",
       "    <tr>\n",
       "      <th>48</th>\n",
       "      <td>0.083400</td>\n",
       "      <td>0.974160</td>\n",
       "      <td>0.525140</td>\n",
       "      <td>0.851190</td>\n",
       "    </tr>\n",
       "    <tr>\n",
       "      <th>49</th>\n",
       "      <td>0.095363</td>\n",
       "      <td>0.969748</td>\n",
       "      <td>0.378441</td>\n",
       "      <td>0.908333</td>\n",
       "    </tr>\n",
       "  </tbody>\n",
       "</table>\n",
       "</div>"
      ],
      "text/plain": [
       "        loss  categorical_accuracy  val_loss  val_categorical_accuracy\n",
       "0   2.955113              0.081303  2.836140                  0.141667\n",
       "1   2.707130              0.154622  2.615559                  0.177381\n",
       "2   2.440205              0.228361  2.289610                  0.276190\n",
       "3   2.138890              0.317017  1.944979                  0.369048\n",
       "4   1.806288              0.426261  1.685481                  0.452381\n",
       "5   1.512773              0.510714  1.355062                  0.589286\n",
       "6   1.288467              0.581513  1.330683                  0.589286\n",
       "7   1.085798              0.658824  0.966423                  0.726190\n",
       "8   0.879638              0.727941  0.950085                  0.704762\n",
       "9   0.743142              0.769538  0.816896                  0.748810\n",
       "10  0.666967              0.796639  0.768215                  0.769048\n",
       "11  0.584549              0.815336  0.634142                  0.805952\n",
       "12  0.450591              0.859664  0.543469                  0.847619\n",
       "13  0.415789              0.869118  0.555661                  0.836905\n",
       "14  0.385363              0.878361  0.523097                  0.836905\n",
       "15  0.309925              0.905882  0.505984                  0.846429\n",
       "16  0.346384              0.890546  0.597214                  0.819048\n",
       "17  0.247376              0.923109  0.519356                  0.832143\n",
       "18  0.207595              0.940756  0.467875                  0.860714\n",
       "19  0.227407              0.929622  0.465483                  0.871429\n",
       "20  0.201747              0.940336  0.511613                  0.851190\n",
       "21  0.183142              0.944538  0.514512                  0.842857\n",
       "22  0.181159              0.943067  0.477022                  0.869048\n",
       "23  0.233285              0.924790  0.546070                  0.838095\n",
       "24  0.194493              0.939916  0.412020                  0.884524\n",
       "25  0.173143              0.943487  0.490129                  0.858333\n",
       "26  0.122624              0.962605  0.463699                  0.866667\n",
       "27  0.119062              0.965126  0.367902                  0.895238\n",
       "28  0.143062              0.953571  0.354678                  0.884524\n",
       "29  0.133849              0.959454  0.602996                  0.821429\n",
       "30  0.118846              0.963866  0.350944                  0.895238\n",
       "31  0.082858              0.975000  0.464054                  0.864286\n",
       "32  0.152057              0.948109  0.362209                  0.891667\n",
       "33  0.131866              0.960294  0.392892                  0.890476\n",
       "34  0.119102              0.961555  0.410267                  0.882143\n",
       "35  0.078623              0.976260  0.432840                  0.890476\n",
       "36  0.079056              0.977311  0.447402                  0.876190\n",
       "37  0.171016              0.940546  0.550324                  0.847619\n",
       "38  0.113426              0.964706  0.349698                  0.901190\n",
       "39  0.103923              0.968697  0.366317                  0.890476\n",
       "40  0.065305              0.980882  0.380517                  0.888095\n",
       "41  0.076342              0.976891  0.450585                  0.879762\n",
       "42  0.140121              0.952521  0.445260                  0.879762\n",
       "43  0.099298              0.968277  0.377126                  0.897619\n",
       "44  0.022375              0.995168  0.289932                  0.919048\n",
       "45  0.018518              0.996219  0.352259                  0.907143\n",
       "46  0.127907              0.959034  0.364725                  0.902381\n",
       "47  0.088084              0.972899  0.463074                  0.880952\n",
       "48  0.083400              0.974160  0.525140                  0.851190\n",
       "49  0.095363              0.969748  0.378441                  0.908333"
      ]
     },
     "execution_count": 37,
     "metadata": {},
     "output_type": "execute_result"
    }
   ],
   "source": [
    "import pandas as pd \n",
    "pd.DataFrame(LSTMEthSLR.history)"
   ]
  },
  {
   "cell_type": "code",
   "execution_count": 40,
   "id": "e0a782f4",
   "metadata": {},
   "outputs": [
    {
     "data": {
      "text/plain": [
       "<function matplotlib.pyplot.show(close=None, block=None)>"
      ]
     },
     "execution_count": 40,
     "metadata": {},
     "output_type": "execute_result"
    },
    {
     "data": {
      "image/png": "[encoded data removed]",
      "text/plain": [
       "<Figure size 640x480 with 1 Axes>"
      ]
     },
     "metadata": {},
     "output_type": "display_data"
    }
   ],
   "source": [
    "acc = LSTMEthSLR.history['categorical_accuracy']\n",
    "acc_val = LSTMEthSLR.history['val_categorical_accuracy']\n",
    "epochs = range(1, len(acc) + 1)\n",
    "plt.plot(epochs, acc, 'g', label='Training accuracy')\n",
    "plt.plot(epochs, acc_val, 'bo', label='Validation accuracy')\n",
    "plt.title('Training and Validation accuracy')\n",
    "plt.xlabel('Epochs')\n",
    "plt.ylabel('Accuracy')\n",
    "plt.legend()\n",
    "plt.show"
   ]
  },
  {
   "cell_type": "code",
   "execution_count": 41,
   "id": "ba875dc2",
   "metadata": {},
   "outputs": [
    {
     "data": {
      "text/plain": [
       "<function matplotlib.pyplot.show(close=None, block=None)>"
      ]
     },
     "execution_count": 41,
     "metadata": {},
     "output_type": "execute_result"
    },
    {
     "data": {
      "image/png": "[encoded data removed]",
      "text/plain": [
       "<Figure size 640x480 with 1 Axes>"
      ]
     },
     "metadata": {},
     "output_type": "display_data"
    }
   ],
   "source": [
    "loss1 = LSTMEthSLR.history['loss']\n",
    "val_loss1 = LSTMEthSLR.history['val_loss']\n",
    "epochs = range(1, len(acc) + 1)\n",
    "plt.plot(epochs, loss1, 'g', label='Loss')\n",
    "plt.plot(epochs, val_loss1, 'bo', label='Validation_Loss')\n",
    "plt.title('Loss and Validation_Loss')\n",
    "plt.xlabel('Epochs')\n",
    "plt.ylabel('Loss')\n",
    "plt.legend()\n",
    "plt.show"
   ]
  },
  {
   "cell_type": "code",
   "execution_count": 35,
   "id": "9c5b4e72",
   "metadata": {},
   "outputs": [
    {
     "name": "stdout",
     "output_type": "stream",
     "text": [
      "13/13 [==============================] - 5s 180ms/step\n"
     ]
    }
   ],
   "source": [
    "from sklearn import metrics\n",
    "yhat = model.predict(x_val)"
   ]
  },
  {
   "cell_type": "code",
   "execution_count": 36,
   "id": "c52261a8",
   "metadata": {},
   "outputs": [],
   "source": [
    "ytrue = np.argmax(y_val, axis=1).tolist()\n",
    "yhat = np.argmax(yhat, axis=1).tolist()"
   ]
  },
  {
   "cell_type": "code",
   "execution_count": null,
   "id": "1c815d2f",
   "metadata": {},
   "outputs": [],
   "source": [
    "from sklearn.metrics import multilabel_confusion_matrix, accuracy_score, precision_score, recall_score, f1_score"
   ]
  },
  {
   "cell_type": "code",
   "execution_count": null,
   "id": "2642a8e1",
   "metadata": {},
   "outputs": [],
   "source": [
    "multilabel_confusion_matrix(ytrue, yhat)"
   ]
  },
  {
   "cell_type": "code",
   "execution_count": 37,
   "id": "1a3aab34",
   "metadata": {},
   "outputs": [
    {
     "name": "stdout",
     "output_type": "stream",
     "text": [
      "              precision    recall  f1-score   support\n",
      "\n",
      "         ሀዘን       0.88      0.94      0.91        16\n",
      "         ህመም       1.00      1.00      1.00        14\n",
      "         ለምን       0.84      0.94      0.89        17\n",
      "        ልምምድ       0.96      0.92      0.94        24\n",
      "         መራራ       0.83      0.90      0.86        21\n",
      "        መናደድ       0.94      1.00      0.97        16\n",
      "        መጀመር       1.00      0.78      0.88        23\n",
      "        መገረም       1.00      0.96      0.98        26\n",
      "         መጥፎ       0.89      0.92      0.91        26\n",
      "        መጨረስ       0.82      0.82      0.82        17\n",
      "        መጨነቅ       0.95      0.90      0.93        21\n",
      "        ማሸነፍ       0.95      1.00      0.97        19\n",
      "        ምስጋና       0.78      0.93      0.85        15\n",
      "         ቀላል       1.00      0.74      0.85        31\n",
      "         ተነስ       0.82      0.96      0.88        24\n",
      "       አስቸጋሪ       0.90      0.90      0.90        21\n",
      "         እህት       0.80      0.80      0.80        15\n",
      "        ወንድም       1.00      0.89      0.94        19\n",
      "        ይቅርታ       0.86      0.95      0.90        19\n",
      "         ጎበዝ       0.94      1.00      0.97        16\n",
      "\n",
      "    accuracy                           0.91       400\n",
      "   macro avg       0.91      0.91      0.91       400\n",
      "weighted avg       0.91      0.91      0.91       400\n",
      "\n"
     ]
    }
   ],
   "source": [
    "from sklearn.metrics import classification_report\n",
    "\n",
    "label_names = ['ሀዘን','ህመም','ለምን', 'ልምምድ', 'መራራ', 'መናደድ', 'መጀመር', 'መገረም', \n",
    "                    'መጥፎ', 'መጨረስ', 'መጨነቅ', 'ማሸነፍ', 'ምስጋና', 'ቀላል', 'ተነስ', 'አስቸጋሪ', \n",
    "                    'እህት', 'ወንድም', 'ይቅርታ', 'ጎበዝ']\n",
    "\n",
    "#print(classification_report(ytrue, yhat,target_names=label_names))\n",
    "print(classification_report(ytrue, yhat, labels=np.arange(0, len(label_names),1), target_names=label_names, zero_division=0))"
   ]
  },
  {
   "cell_type": "code",
   "execution_count": 41,
   "id": "4d089622",
   "metadata": {},
   "outputs": [],
   "source": [
    "from tensorflow.keras.models import save_model\n",
    "from pickle import dump,load"
   ]
  },
  {
   "cell_type": "code",
   "execution_count": 42,
   "id": "f4d20fbd",
   "metadata": {},
   "outputs": [],
   "source": [
    "#save the model with different names\n",
    "save_model(model,'LSTM_Second_Round91.h5')"
   ]
  },
  {
   "cell_type": "code",
   "execution_count": null,
   "id": "f05f97a4",
   "metadata": {},
   "outputs": [],
   "source": [
    "sequence = [] # capture frames\n",
    "sentence = [] # to concatenate inputs\n",
    "prediction = []\n",
    "threshold = 0.5\n",
    "\n",
    "cap = cv2.VideoCapture(1)\n",
    "\n",
    "#set mediapipe model detection and tracking confidence\n",
    "with mp_holistic.Holistic(min_detection_confidence=0.5, min_tracking_confidence=0.5) as holistic: \n",
    "    \n",
    "    # Create loop to collect the words\n",
    "    for action in actions:\n",
    "        \n",
    "        # Create loop to collect videos for each word\n",
    "        for sequence in range(no_sequences):\n",
    "            \n",
    "            # Collect specified number of frames for each video\n",
    "            for frame_num in range(sequence_length):\n",
    "                \n",
    "        \n",
    "                # read inputs from signers\n",
    "                ret, frame = cap.read()\n",
    "\n",
    "                image, results = mediapipe_detection(frame, holistic)\n",
    "                #print(results)\n",
    "\n",
    "                #Draw landmarks\n",
    "                draw_styled_landmarks(image, results)\n",
    "                \n",
    "                # start collecting input videos until specified number is reached\n",
    "                # 2 second is given a break to prepare for the next signing\n",
    "                if frame_num == 0:\n",
    "                    cv2.putText(image, 'Starting Collection ...', (120, 200), \n",
    "                                cv2.FONT_HERSHEY_SIMPLEX, 1, (0, 255, 0), 4, cv2.LINE_AA)\n",
    "                    cv2.putText(image, 'Collecting frames for {} Video Number {}'. format(action, sequence), (15, 12),\n",
    "                               cv2.FONT_HERSHEY_SIMPLEX, 0.5, (0, 0, 255), 1, cv2.LINE_AA)\n",
    "                    cv2.waitKey(2000)\n",
    "                else:\n",
    "                    cv2.putText(image, 'Collecting frames for {} Video Number {}'. format(action, sequence), (15, 12),\n",
    "                               cv2.FONT_HERSHEY_SIMPLEX, 0.5, (0, 0, 255), 1, cv2.LINE_AA)\n",
    "                \n",
    "                # Extracting and saving keypoints to their respective folders as numpy arrays\n",
    "                keypoints = extract_keypoints(results)\n",
    "                npy_path = os.path.join(DATA_PATH, action, str(sequence), str(frame_num))\n",
    "                np.save(npy_path, keypoints)\n",
    "\n",
    "                # Prediction logic\n",
    "                keypoints = extract_keypoints(results)\n",
    "                sequence.append(keypoints)\n",
    "                sequence = sequence[-30:]\n",
    "                \n",
    "                if len(sequence) == 30:\n",
    "                    res = model.predict(np.expand_dims(sequence, axis=0))[0]\n",
    "                    print(actions[np.argmax(res)])\n",
    "                    predictions.append(np.argmax(res))\n",
    "                \n",
    "                # show real time prediction\n",
    "                if np.unique(predictions[-10:])[0] == np.argmax(res):\n",
    "                    if res[np.argmax(res)] > threshold: \n",
    "\n",
    "                        if len(sentence) > 0:\n",
    "                            \n",
    "                            if actions[np.argmax(res)] != sentence[-1]:\n",
    "                                sentence.append(actions[np.argmax(res)])\n",
    "                        else:\n",
    "                            sentence.append(actions[np.argmax(res)])\n",
    "                \n",
    "                if len(sentence) > 5:\n",
    "                    sentence = sentence[-5:]\n",
    "                    \n",
    "                cv2.rectange(image, (0, 0), (640, 40), (245, 117, 16), -1)\n",
    "                cv2.putText(image, ' '.join(sentence), (3, 30),\n",
    "                           cv2.FONT_HERSHEY_SIMPLEX, 1, (255, 255, 255), 2, cv2.LINE_AA)\n",
    "                        \n",
    "                \n",
    "                \n",
    "                cv2.imshow('Interface', image)\n",
    "                \n",
    "                if cv2.waitKey(10) & 0xFF == ord('q'):\n",
    "                    break\n",
    "    cap.release()\n",
    "    cv2.destroyAllWindows()"
   ]
  }
 ],
 "metadata": {
  "kernelspec": {
   "display_name": "Python 3 (ipykernel)",
   "language": "python",
   "name": "python3"
  },
  "language_info": {
   "codemirror_mode": {
    "name": "ipython",
    "version": 3
   },
   "file_extension": ".py",
   "mimetype": "text/x-python",
   "name": "python",
   "nbconvert_exporter": "python",
   "pygments_lexer": "ipython3",
   "version": "3.9.13"
  }
 },
 "nbformat": 4,
 "nbformat_minor": 5
}
